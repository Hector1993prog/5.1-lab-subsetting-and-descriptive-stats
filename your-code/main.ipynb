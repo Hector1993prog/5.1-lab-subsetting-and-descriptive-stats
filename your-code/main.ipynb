{
 "cells": [
  {
   "cell_type": "markdown",
   "metadata": {},
   "source": [
    "# Before you start :\n",
    "   - These exercises are related to the Subsetting and Descriptive Stats lessons.\n",
    "   - Keep in mind that you need to use some of the functions you learned in the previous lessons.\n",
    "   - All datasets are provided in the `your-code` folder of this lab.\n",
    "   - Elaborate your codes and outputs as much as you can.\n",
    "   - Try your best to answer the questions and complete the tasks and most importantly enjoy the process!!!"
   ]
  },
  {
   "cell_type": "markdown",
   "metadata": {},
   "source": [
    "#### Import all the libraries that are necessary"
   ]
  },
  {
   "cell_type": "code",
   "execution_count": 1,
   "metadata": {
    "collapsed": true
   },
   "outputs": [],
   "source": [
    "# import libraries here\n",
    "import numpy as np\n",
    "import pandas as pd\n",
    "import seaborn as sb"
   ]
  },
  {
   "cell_type": "markdown",
   "metadata": {},
   "source": [
    "# Challenge 1"
   ]
  },
  {
   "cell_type": "markdown",
   "metadata": {},
   "source": [
    "#### In this challenge we will use the `Temp_States.csv` file. \n",
    "\n",
    "#### First import it into a data frame called `temp`."
   ]
  },
  {
   "cell_type": "code",
   "execution_count": 3,
   "metadata": {},
   "outputs": [
    {
     "data": {
      "text/plain": [
       "'c:\\\\Users\\\\Héctor\\\\Documents\\\\IRONHACK\\\\DATA ANALIST\\\\BOOTCAMP\\\\Labs\\\\Semana 5\\\\5.1-lab-subsetting-and-descriptive-stats\\\\your-code'"
      ]
     },
     "execution_count": 3,
     "metadata": {},
     "output_type": "execute_result"
    }
   ],
   "source": [
    "pwd"
   ]
  },
  {
   "cell_type": "code",
   "execution_count": 8,
   "metadata": {
    "collapsed": true
   },
   "outputs": [],
   "source": [
    "# your answer here\n",
    "temp= pd.read_csv(r'c:\\Users\\Héctor\\Documents\\IRONHACK\\DATA ANALIST\\BOOTCAMP\\Labs\\Semana 5\\5.1-lab-subsetting-and-descriptive-stats\\your-code\\Temp_States.csv')\n"
   ]
  },
  {
   "cell_type": "markdown",
   "metadata": {},
   "source": [
    "#### Print `temp`"
   ]
  },
  {
   "cell_type": "code",
   "execution_count": 12,
   "metadata": {},
   "outputs": [
    {
     "data": {
      "text/html": [
       "<div>\n",
       "<style scoped>\n",
       "    .dataframe tbody tr th:only-of-type {\n",
       "        vertical-align: middle;\n",
       "    }\n",
       "\n",
       "    .dataframe tbody tr th {\n",
       "        vertical-align: top;\n",
       "    }\n",
       "\n",
       "    .dataframe thead th {\n",
       "        text-align: right;\n",
       "    }\n",
       "</style>\n",
       "<table border=\"1\" class=\"dataframe\">\n",
       "  <thead>\n",
       "    <tr style=\"text-align: right;\">\n",
       "      <th></th>\n",
       "      <th>City</th>\n",
       "      <th>State</th>\n",
       "      <th>Temperature</th>\n",
       "    </tr>\n",
       "  </thead>\n",
       "  <tbody>\n",
       "    <tr>\n",
       "      <th>0</th>\n",
       "      <td>NYC</td>\n",
       "      <td>New York</td>\n",
       "      <td>19.444444</td>\n",
       "    </tr>\n",
       "    <tr>\n",
       "      <th>1</th>\n",
       "      <td>Albany</td>\n",
       "      <td>New York</td>\n",
       "      <td>9.444444</td>\n",
       "    </tr>\n",
       "    <tr>\n",
       "      <th>2</th>\n",
       "      <td>Buffalo</td>\n",
       "      <td>New York</td>\n",
       "      <td>3.333333</td>\n",
       "    </tr>\n",
       "    <tr>\n",
       "      <th>3</th>\n",
       "      <td>Hartford</td>\n",
       "      <td>Connecticut</td>\n",
       "      <td>17.222222</td>\n",
       "    </tr>\n",
       "    <tr>\n",
       "      <th>4</th>\n",
       "      <td>Bridgeport</td>\n",
       "      <td>Connecticut</td>\n",
       "      <td>14.444444</td>\n",
       "    </tr>\n",
       "    <tr>\n",
       "      <th>5</th>\n",
       "      <td>Treton</td>\n",
       "      <td>New Jersey</td>\n",
       "      <td>22.222222</td>\n",
       "    </tr>\n",
       "    <tr>\n",
       "      <th>6</th>\n",
       "      <td>Newark</td>\n",
       "      <td>New Jersey</td>\n",
       "      <td>20.000000</td>\n",
       "    </tr>\n",
       "  </tbody>\n",
       "</table>\n",
       "</div>"
      ],
      "text/plain": [
       "         City        State  Temperature\n",
       "0         NYC     New York    19.444444\n",
       "1      Albany     New York     9.444444\n",
       "2     Buffalo     New York     3.333333\n",
       "3    Hartford  Connecticut    17.222222\n",
       "4  Bridgeport  Connecticut    14.444444\n",
       "5      Treton   New Jersey    22.222222\n",
       "6      Newark   New Jersey    20.000000"
      ]
     },
     "execution_count": 12,
     "metadata": {},
     "output_type": "execute_result"
    }
   ],
   "source": [
    "temp"
   ]
  },
  {
   "cell_type": "code",
   "execution_count": 9,
   "metadata": {},
   "outputs": [
    {
     "name": "stdout",
     "output_type": "stream",
     "text": [
      "         City        State  Temperature\n",
      "0         NYC     New York    19.444444\n",
      "1      Albany     New York     9.444444\n",
      "2     Buffalo     New York     3.333333\n",
      "3    Hartford  Connecticut    17.222222\n",
      "4  Bridgeport  Connecticut    14.444444\n",
      "5      Treton   New Jersey    22.222222\n",
      "6      Newark   New Jersey    20.000000\n"
     ]
    }
   ],
   "source": [
    "print(temp)"
   ]
  },
  {
   "cell_type": "markdown",
   "metadata": {},
   "source": [
    "#### Explore the data types of the Temp dataframe. What type of data do we have? Comment your result."
   ]
  },
  {
   "cell_type": "code",
   "execution_count": 11,
   "metadata": {},
   "outputs": [
    {
     "name": "stdout",
     "output_type": "stream",
     "text": [
      "<class 'pandas.core.frame.DataFrame'>\n",
      "RangeIndex: 7 entries, 0 to 6\n",
      "Data columns (total 3 columns):\n",
      " #   Column       Non-Null Count  Dtype  \n",
      "---  ------       --------------  -----  \n",
      " 0   City         7 non-null      object \n",
      " 1   State        7 non-null      object \n",
      " 2   Temperature  7 non-null      float64\n",
      "dtypes: float64(1), object(2)\n",
      "memory usage: 296.0+ bytes\n"
     ]
    }
   ],
   "source": [
    "# your answer here\n",
    "temp.info()"
   ]
  },
  {
   "cell_type": "markdown",
   "metadata": {},
   "source": [
    "El tipo de datos son cualitativos y numéricos."
   ]
  },
  {
   "cell_type": "markdown",
   "metadata": {},
   "source": [
    "#### Select the rows where state is New York"
   ]
  },
  {
   "cell_type": "code",
   "execution_count": 13,
   "metadata": {},
   "outputs": [
    {
     "data": {
      "text/html": [
       "<div>\n",
       "<style scoped>\n",
       "    .dataframe tbody tr th:only-of-type {\n",
       "        vertical-align: middle;\n",
       "    }\n",
       "\n",
       "    .dataframe tbody tr th {\n",
       "        vertical-align: top;\n",
       "    }\n",
       "\n",
       "    .dataframe thead th {\n",
       "        text-align: right;\n",
       "    }\n",
       "</style>\n",
       "<table border=\"1\" class=\"dataframe\">\n",
       "  <thead>\n",
       "    <tr style=\"text-align: right;\">\n",
       "      <th></th>\n",
       "      <th>City</th>\n",
       "      <th>State</th>\n",
       "      <th>Temperature</th>\n",
       "    </tr>\n",
       "  </thead>\n",
       "  <tbody>\n",
       "    <tr>\n",
       "      <th>0</th>\n",
       "      <td>NYC</td>\n",
       "      <td>New York</td>\n",
       "      <td>19.444444</td>\n",
       "    </tr>\n",
       "    <tr>\n",
       "      <th>1</th>\n",
       "      <td>Albany</td>\n",
       "      <td>New York</td>\n",
       "      <td>9.444444</td>\n",
       "    </tr>\n",
       "    <tr>\n",
       "      <th>2</th>\n",
       "      <td>Buffalo</td>\n",
       "      <td>New York</td>\n",
       "      <td>3.333333</td>\n",
       "    </tr>\n",
       "  </tbody>\n",
       "</table>\n",
       "</div>"
      ],
      "text/plain": [
       "      City     State  Temperature\n",
       "0      NYC  New York    19.444444\n",
       "1   Albany  New York     9.444444\n",
       "2  Buffalo  New York     3.333333"
      ]
     },
     "execution_count": 13,
     "metadata": {},
     "output_type": "execute_result"
    }
   ],
   "source": [
    "# your answer here\n",
    "temp[:3]"
   ]
  },
  {
   "cell_type": "markdown",
   "metadata": {},
   "source": [
    "#### What is the average of the temperature of cities in New York?"
   ]
  },
  {
   "cell_type": "code",
   "execution_count": 46,
   "metadata": {},
   "outputs": [
    {
     "data": {
      "text/plain": [
       "10.74074074074074"
      ]
     },
     "execution_count": 46,
     "metadata": {},
     "output_type": "execute_result"
    }
   ],
   "source": [
    "# your answer here\n",
    "np.average(temp.Temperature[0:3])\n"
   ]
  },
  {
   "cell_type": "markdown",
   "metadata": {},
   "source": [
    "#### We want to know cities and states with Temperature above 15 degress Celcius"
   ]
  },
  {
   "cell_type": "code",
   "execution_count": 78,
   "metadata": {},
   "outputs": [
    {
     "data": {
      "text/html": [
       "<div>\n",
       "<style scoped>\n",
       "    .dataframe tbody tr th:only-of-type {\n",
       "        vertical-align: middle;\n",
       "    }\n",
       "\n",
       "    .dataframe tbody tr th {\n",
       "        vertical-align: top;\n",
       "    }\n",
       "\n",
       "    .dataframe thead th {\n",
       "        text-align: right;\n",
       "    }\n",
       "</style>\n",
       "<table border=\"1\" class=\"dataframe\">\n",
       "  <thead>\n",
       "    <tr style=\"text-align: right;\">\n",
       "      <th></th>\n",
       "      <th>City</th>\n",
       "      <th>State</th>\n",
       "      <th>Temperature</th>\n",
       "    </tr>\n",
       "  </thead>\n",
       "  <tbody>\n",
       "    <tr>\n",
       "      <th>0</th>\n",
       "      <td>NYC</td>\n",
       "      <td>New York</td>\n",
       "      <td>19.444444</td>\n",
       "    </tr>\n",
       "    <tr>\n",
       "      <th>3</th>\n",
       "      <td>Hartford</td>\n",
       "      <td>Connecticut</td>\n",
       "      <td>17.222222</td>\n",
       "    </tr>\n",
       "    <tr>\n",
       "      <th>5</th>\n",
       "      <td>Treton</td>\n",
       "      <td>New Jersey</td>\n",
       "      <td>22.222222</td>\n",
       "    </tr>\n",
       "    <tr>\n",
       "      <th>6</th>\n",
       "      <td>Newark</td>\n",
       "      <td>New Jersey</td>\n",
       "      <td>20.000000</td>\n",
       "    </tr>\n",
       "  </tbody>\n",
       "</table>\n",
       "</div>"
      ],
      "text/plain": [
       "       City        State  Temperature\n",
       "0       NYC     New York    19.444444\n",
       "3  Hartford  Connecticut    17.222222\n",
       "5    Treton   New Jersey    22.222222\n",
       "6    Newark   New Jersey    20.000000"
      ]
     },
     "execution_count": 78,
     "metadata": {},
     "output_type": "execute_result"
    }
   ],
   "source": [
    "temp[temp['Temperature']>15]"
   ]
  },
  {
   "cell_type": "markdown",
   "metadata": {},
   "source": [
    "#### Now, return only the cities that have a temperature above 15 degress Celcius"
   ]
  },
  {
   "cell_type": "code",
   "execution_count": 84,
   "metadata": {},
   "outputs": [
    {
     "data": {
      "text/html": [
       "<div>\n",
       "<style scoped>\n",
       "    .dataframe tbody tr th:only-of-type {\n",
       "        vertical-align: middle;\n",
       "    }\n",
       "\n",
       "    .dataframe tbody tr th {\n",
       "        vertical-align: top;\n",
       "    }\n",
       "\n",
       "    .dataframe thead th {\n",
       "        text-align: right;\n",
       "    }\n",
       "</style>\n",
       "<table border=\"1\" class=\"dataframe\">\n",
       "  <thead>\n",
       "    <tr style=\"text-align: right;\">\n",
       "      <th></th>\n",
       "      <th>City</th>\n",
       "      <th>Temperature</th>\n",
       "    </tr>\n",
       "  </thead>\n",
       "  <tbody>\n",
       "    <tr>\n",
       "      <th>0</th>\n",
       "      <td>NYC</td>\n",
       "      <td>19.444444</td>\n",
       "    </tr>\n",
       "    <tr>\n",
       "      <th>3</th>\n",
       "      <td>Hartford</td>\n",
       "      <td>17.222222</td>\n",
       "    </tr>\n",
       "    <tr>\n",
       "      <th>5</th>\n",
       "      <td>Treton</td>\n",
       "      <td>22.222222</td>\n",
       "    </tr>\n",
       "    <tr>\n",
       "      <th>6</th>\n",
       "      <td>Newark</td>\n",
       "      <td>20.000000</td>\n",
       "    </tr>\n",
       "  </tbody>\n",
       "</table>\n",
       "</div>"
      ],
      "text/plain": [
       "       City  Temperature\n",
       "0       NYC    19.444444\n",
       "3  Hartford    17.222222\n",
       "5    Treton    22.222222\n",
       "6    Newark    20.000000"
      ]
     },
     "execution_count": 84,
     "metadata": {},
     "output_type": "execute_result"
    }
   ],
   "source": [
    "temp[['City','Temperature']] [temp['Temperature'] >15]"
   ]
  },
  {
   "cell_type": "code",
   "execution_count": 8,
   "metadata": {},
   "outputs": [],
   "source": [
    "# your answer here"
   ]
  },
  {
   "cell_type": "markdown",
   "metadata": {},
   "source": [
    "#### We want to know which cities have a temperature above 15 degrees Celcius and below 20 degrees Celcius\n",
    "\n",
    "*Hint: First write the condition then select the rows.*"
   ]
  },
  {
   "cell_type": "code",
   "execution_count": 91,
   "metadata": {},
   "outputs": [
    {
     "name": "stderr",
     "output_type": "stream",
     "text": [
      "C:\\Temp\\ipykernel_16100\\995709805.py:2: UserWarning: Boolean Series key will be reindexed to match DataFrame index.\n",
      "  temp[['City','Temperature']] [temp['Temperature'] >15] [temp['Temperature'] <20]\n"
     ]
    },
    {
     "data": {
      "text/html": [
       "<div>\n",
       "<style scoped>\n",
       "    .dataframe tbody tr th:only-of-type {\n",
       "        vertical-align: middle;\n",
       "    }\n",
       "\n",
       "    .dataframe tbody tr th {\n",
       "        vertical-align: top;\n",
       "    }\n",
       "\n",
       "    .dataframe thead th {\n",
       "        text-align: right;\n",
       "    }\n",
       "</style>\n",
       "<table border=\"1\" class=\"dataframe\">\n",
       "  <thead>\n",
       "    <tr style=\"text-align: right;\">\n",
       "      <th></th>\n",
       "      <th>City</th>\n",
       "      <th>Temperature</th>\n",
       "    </tr>\n",
       "  </thead>\n",
       "  <tbody>\n",
       "    <tr>\n",
       "      <th>0</th>\n",
       "      <td>NYC</td>\n",
       "      <td>19.444444</td>\n",
       "    </tr>\n",
       "    <tr>\n",
       "      <th>3</th>\n",
       "      <td>Hartford</td>\n",
       "      <td>17.222222</td>\n",
       "    </tr>\n",
       "  </tbody>\n",
       "</table>\n",
       "</div>"
      ],
      "text/plain": [
       "       City  Temperature\n",
       "0       NYC    19.444444\n",
       "3  Hartford    17.222222"
      ]
     },
     "execution_count": 91,
     "metadata": {},
     "output_type": "execute_result"
    }
   ],
   "source": [
    "# your answer here\n",
    "temp[['City','Temperature']] [temp['Temperature'] >15] [temp['Temperature'] <20]"
   ]
  },
  {
   "cell_type": "markdown",
   "metadata": {},
   "source": [
    "#### Find the mean and the standard deviation of the temperature of each state.\n",
    "\n",
    "*Hint: Use functions from Data Manipulation lesson*"
   ]
  },
  {
   "cell_type": "code",
   "execution_count": 118,
   "metadata": {},
   "outputs": [
    {
     "name": "stderr",
     "output_type": "stream",
     "text": [
      "C:\\Temp\\ipykernel_16100\\655448309.py:2: FutureWarning: Dropping of nuisance columns in DataFrame reductions (with 'numeric_only=None') is deprecated; in a future version this will raise TypeError.  Select only valid columns before calling the reduction.\n",
      "  temp[['State','Temperature']][0:3].mean()\n"
     ]
    },
    {
     "data": {
      "text/plain": [
       "Temperature    10.740741\n",
       "dtype: float64"
      ]
     },
     "execution_count": 118,
     "metadata": {},
     "output_type": "execute_result"
    }
   ],
   "source": [
    "# your answer here\n",
    "temp[['State','Temperature']][0:3].mean()\n"
   ]
  },
  {
   "cell_type": "code",
   "execution_count": 119,
   "metadata": {},
   "outputs": [
    {
     "name": "stderr",
     "output_type": "stream",
     "text": [
      "C:\\Temp\\ipykernel_16100\\3370840947.py:1: FutureWarning: Dropping of nuisance columns in DataFrame reductions (with 'numeric_only=None') is deprecated; in a future version this will raise TypeError.  Select only valid columns before calling the reduction.\n",
      "  temp[['State','Temperature']][3:5].mean()\n"
     ]
    },
    {
     "data": {
      "text/plain": [
       "Temperature    15.833333\n",
       "dtype: float64"
      ]
     },
     "execution_count": 119,
     "metadata": {},
     "output_type": "execute_result"
    }
   ],
   "source": [
    "temp[['State','Temperature']][3:5].mean()\n"
   ]
  },
  {
   "cell_type": "code",
   "execution_count": 121,
   "metadata": {},
   "outputs": [
    {
     "name": "stderr",
     "output_type": "stream",
     "text": [
      "C:\\Temp\\ipykernel_16100\\3551300880.py:1: FutureWarning: Dropping of nuisance columns in DataFrame reductions (with 'numeric_only=None') is deprecated; in a future version this will raise TypeError.  Select only valid columns before calling the reduction.\n",
      "  temp[['State','Temperature']][5:].mean()\n"
     ]
    },
    {
     "data": {
      "text/plain": [
       "Temperature    21.111111\n",
       "dtype: float64"
      ]
     },
     "execution_count": 121,
     "metadata": {},
     "output_type": "execute_result"
    }
   ],
   "source": [
    "temp[['State','Temperature']][5:].mean()"
   ]
  },
  {
   "cell_type": "code",
   "execution_count": 122,
   "metadata": {},
   "outputs": [
    {
     "name": "stderr",
     "output_type": "stream",
     "text": [
      "C:\\Temp\\ipykernel_16100\\963619817.py:1: FutureWarning: Dropping of nuisance columns in DataFrame reductions (with 'numeric_only=None') is deprecated; in a future version this will raise TypeError.  Select only valid columns before calling the reduction.\n",
      "  temp[['State','Temperature']][0:3].std()\n"
     ]
    },
    {
     "data": {
      "text/plain": [
       "Temperature    8.133404\n",
       "dtype: float64"
      ]
     },
     "execution_count": 122,
     "metadata": {},
     "output_type": "execute_result"
    }
   ],
   "source": [
    "temp[['State','Temperature']][0:3].std()"
   ]
  },
  {
   "cell_type": "code",
   "execution_count": 123,
   "metadata": {},
   "outputs": [
    {
     "name": "stderr",
     "output_type": "stream",
     "text": [
      "C:\\Temp\\ipykernel_16100\\2163300439.py:1: FutureWarning: Dropping of nuisance columns in DataFrame reductions (with 'numeric_only=None') is deprecated; in a future version this will raise TypeError.  Select only valid columns before calling the reduction.\n",
      "  temp[['State','Temperature']][3:5].std()\n"
     ]
    },
    {
     "data": {
      "text/plain": [
       "Temperature    1.964186\n",
       "dtype: float64"
      ]
     },
     "execution_count": 123,
     "metadata": {},
     "output_type": "execute_result"
    }
   ],
   "source": [
    "temp[['State','Temperature']][3:5].std()"
   ]
  },
  {
   "cell_type": "code",
   "execution_count": 124,
   "metadata": {},
   "outputs": [
    {
     "name": "stderr",
     "output_type": "stream",
     "text": [
      "C:\\Temp\\ipykernel_16100\\1477267643.py:1: FutureWarning: Dropping of nuisance columns in DataFrame reductions (with 'numeric_only=None') is deprecated; in a future version this will raise TypeError.  Select only valid columns before calling the reduction.\n",
      "  temp[['State','Temperature']][5:].std()\n"
     ]
    },
    {
     "data": {
      "text/plain": [
       "Temperature    1.571348\n",
       "dtype: float64"
      ]
     },
     "execution_count": 124,
     "metadata": {},
     "output_type": "execute_result"
    }
   ],
   "source": [
    "temp[['State','Temperature']][5:].std()"
   ]
  },
  {
   "cell_type": "markdown",
   "metadata": {
    "collapsed": true
   },
   "source": [
    "# Challenge 2"
   ]
  },
  {
   "cell_type": "markdown",
   "metadata": {},
   "source": [
    "#### Load the `employee.csv` file into a DataFrame. Call the dataframe `employee`"
   ]
  },
  {
   "cell_type": "code",
   "execution_count": 125,
   "metadata": {
    "collapsed": true
   },
   "outputs": [],
   "source": [
    "# your answer here\n",
    "employee= pd.read_csv(r'C:\\Users\\Héctor\\Documents\\IRONHACK\\DATA ANALIST\\BOOTCAMP\\Labs\\Semana 5\\5.1-lab-subsetting-and-descriptive-stats\\your-code\\employee.csv')"
   ]
  },
  {
   "cell_type": "markdown",
   "metadata": {},
   "source": [
    "#### Explore the data types of the Temp dataframe. Comment your results"
   ]
  },
  {
   "cell_type": "code",
   "execution_count": 131,
   "metadata": {},
   "outputs": [
    {
     "data": {
      "text/html": [
       "<div>\n",
       "<style scoped>\n",
       "    .dataframe tbody tr th:only-of-type {\n",
       "        vertical-align: middle;\n",
       "    }\n",
       "\n",
       "    .dataframe tbody tr th {\n",
       "        vertical-align: top;\n",
       "    }\n",
       "\n",
       "    .dataframe thead th {\n",
       "        text-align: right;\n",
       "    }\n",
       "</style>\n",
       "<table border=\"1\" class=\"dataframe\">\n",
       "  <thead>\n",
       "    <tr style=\"text-align: right;\">\n",
       "      <th></th>\n",
       "      <th>Name</th>\n",
       "      <th>Department</th>\n",
       "      <th>Education</th>\n",
       "      <th>Gender</th>\n",
       "      <th>Title</th>\n",
       "      <th>Years</th>\n",
       "      <th>Salary</th>\n",
       "    </tr>\n",
       "  </thead>\n",
       "  <tbody>\n",
       "    <tr>\n",
       "      <th>0</th>\n",
       "      <td>Jose</td>\n",
       "      <td>IT</td>\n",
       "      <td>Bachelor</td>\n",
       "      <td>M</td>\n",
       "      <td>analyst</td>\n",
       "      <td>1</td>\n",
       "      <td>35</td>\n",
       "    </tr>\n",
       "    <tr>\n",
       "      <th>1</th>\n",
       "      <td>Maria</td>\n",
       "      <td>IT</td>\n",
       "      <td>Master</td>\n",
       "      <td>F</td>\n",
       "      <td>analyst</td>\n",
       "      <td>2</td>\n",
       "      <td>30</td>\n",
       "    </tr>\n",
       "    <tr>\n",
       "      <th>2</th>\n",
       "      <td>David</td>\n",
       "      <td>HR</td>\n",
       "      <td>Master</td>\n",
       "      <td>M</td>\n",
       "      <td>analyst</td>\n",
       "      <td>2</td>\n",
       "      <td>30</td>\n",
       "    </tr>\n",
       "    <tr>\n",
       "      <th>3</th>\n",
       "      <td>Sonia</td>\n",
       "      <td>HR</td>\n",
       "      <td>Bachelor</td>\n",
       "      <td>F</td>\n",
       "      <td>analyst</td>\n",
       "      <td>4</td>\n",
       "      <td>35</td>\n",
       "    </tr>\n",
       "    <tr>\n",
       "      <th>4</th>\n",
       "      <td>Samuel</td>\n",
       "      <td>Sales</td>\n",
       "      <td>Master</td>\n",
       "      <td>M</td>\n",
       "      <td>associate</td>\n",
       "      <td>3</td>\n",
       "      <td>55</td>\n",
       "    </tr>\n",
       "    <tr>\n",
       "      <th>5</th>\n",
       "      <td>Eva</td>\n",
       "      <td>Sales</td>\n",
       "      <td>Bachelor</td>\n",
       "      <td>F</td>\n",
       "      <td>associate</td>\n",
       "      <td>2</td>\n",
       "      <td>55</td>\n",
       "    </tr>\n",
       "    <tr>\n",
       "      <th>6</th>\n",
       "      <td>Carlos</td>\n",
       "      <td>IT</td>\n",
       "      <td>Master</td>\n",
       "      <td>M</td>\n",
       "      <td>VP</td>\n",
       "      <td>8</td>\n",
       "      <td>70</td>\n",
       "    </tr>\n",
       "    <tr>\n",
       "      <th>7</th>\n",
       "      <td>Pedro</td>\n",
       "      <td>IT</td>\n",
       "      <td>Phd</td>\n",
       "      <td>M</td>\n",
       "      <td>associate</td>\n",
       "      <td>7</td>\n",
       "      <td>60</td>\n",
       "    </tr>\n",
       "    <tr>\n",
       "      <th>8</th>\n",
       "      <td>Ana</td>\n",
       "      <td>HR</td>\n",
       "      <td>Master</td>\n",
       "      <td>F</td>\n",
       "      <td>VP</td>\n",
       "      <td>8</td>\n",
       "      <td>70</td>\n",
       "    </tr>\n",
       "  </tbody>\n",
       "</table>\n",
       "</div>"
      ],
      "text/plain": [
       "     Name Department Education Gender      Title  Years  Salary\n",
       "0    Jose         IT  Bachelor      M    analyst      1      35\n",
       "1   Maria         IT    Master      F    analyst      2      30\n",
       "2   David         HR    Master      M    analyst      2      30\n",
       "3   Sonia         HR  Bachelor      F    analyst      4      35\n",
       "4  Samuel      Sales    Master      M  associate      3      55\n",
       "5     Eva      Sales  Bachelor      F  associate      2      55\n",
       "6  Carlos         IT    Master      M         VP      8      70\n",
       "7   Pedro         IT       Phd      M  associate      7      60\n",
       "8     Ana         HR    Master      F         VP      8      70"
      ]
     },
     "execution_count": 131,
     "metadata": {},
     "output_type": "execute_result"
    }
   ],
   "source": [
    "# your answer here\n",
    "employee"
   ]
  },
  {
   "cell_type": "code",
   "execution_count": 129,
   "metadata": {},
   "outputs": [
    {
     "data": {
      "text/html": [
       "<div>\n",
       "<style scoped>\n",
       "    .dataframe tbody tr th:only-of-type {\n",
       "        vertical-align: middle;\n",
       "    }\n",
       "\n",
       "    .dataframe tbody tr th {\n",
       "        vertical-align: top;\n",
       "    }\n",
       "\n",
       "    .dataframe thead th {\n",
       "        text-align: right;\n",
       "    }\n",
       "</style>\n",
       "<table border=\"1\" class=\"dataframe\">\n",
       "  <thead>\n",
       "    <tr style=\"text-align: right;\">\n",
       "      <th></th>\n",
       "      <th>count</th>\n",
       "      <th>mean</th>\n",
       "      <th>std</th>\n",
       "      <th>min</th>\n",
       "      <th>25%</th>\n",
       "      <th>50%</th>\n",
       "      <th>75%</th>\n",
       "      <th>max</th>\n",
       "    </tr>\n",
       "  </thead>\n",
       "  <tbody>\n",
       "    <tr>\n",
       "      <th>Years</th>\n",
       "      <td>9.0</td>\n",
       "      <td>4.111111</td>\n",
       "      <td>2.803767</td>\n",
       "      <td>1.0</td>\n",
       "      <td>2.0</td>\n",
       "      <td>3.0</td>\n",
       "      <td>7.0</td>\n",
       "      <td>8.0</td>\n",
       "    </tr>\n",
       "    <tr>\n",
       "      <th>Salary</th>\n",
       "      <td>9.0</td>\n",
       "      <td>48.888889</td>\n",
       "      <td>16.541194</td>\n",
       "      <td>30.0</td>\n",
       "      <td>35.0</td>\n",
       "      <td>55.0</td>\n",
       "      <td>60.0</td>\n",
       "      <td>70.0</td>\n",
       "    </tr>\n",
       "  </tbody>\n",
       "</table>\n",
       "</div>"
      ],
      "text/plain": [
       "        count       mean        std   min   25%   50%   75%   max\n",
       "Years     9.0   4.111111   2.803767   1.0   2.0   3.0   7.0   8.0\n",
       "Salary    9.0  48.888889  16.541194  30.0  35.0  55.0  60.0  70.0"
      ]
     },
     "execution_count": 129,
     "metadata": {},
     "output_type": "execute_result"
    }
   ],
   "source": [
    "employee.describe().T"
   ]
  },
  {
   "cell_type": "markdown",
   "metadata": {},
   "source": [
    "#### Show visually the frequency distribution (histogram) of the employee dataset. In few words describe these histograms?"
   ]
  },
  {
   "cell_type": "code",
   "execution_count": 136,
   "metadata": {},
   "outputs": [
    {
     "data": {
      "text/plain": [
       "<AxesSubplot:ylabel='Count'>"
      ]
     },
     "execution_count": 136,
     "metadata": {},
     "output_type": "execute_result"
    },
    {
     "data": {
      "image/png": "[encoded data removed]",
      "text/plain": [
       "<Figure size 640x480 with 1 Axes>"
      ]
     },
     "metadata": {},
     "output_type": "display_data"
    }
   ],
   "source": [
    "# your answer here\n",
    "sb.histplot(employee [['Salary']], bins= 10)"
   ]
  },
  {
   "cell_type": "code",
   "execution_count": 137,
   "metadata": {},
   "outputs": [
    {
     "data": {
      "text/plain": [
       "<AxesSubplot:ylabel='Count'>"
      ]
     },
     "execution_count": 137,
     "metadata": {},
     "output_type": "execute_result"
    },
    {
     "data": {
      "image/png": "[encoded data removed]",
      "text/plain": [
       "<Figure size 640x480 with 1 Axes>"
      ]
     },
     "metadata": {},
     "output_type": "display_data"
    }
   ],
   "source": [
    "sb.histplot(employee [['Years']], bins= 10)"
   ]
  },
  {
   "cell_type": "markdown",
   "metadata": {},
   "source": [
    "#### What's the average salary in this company?"
   ]
  },
  {
   "cell_type": "code",
   "execution_count": 138,
   "metadata": {},
   "outputs": [
    {
     "data": {
      "text/plain": [
       "48.888888888888886"
      ]
     },
     "execution_count": 138,
     "metadata": {},
     "output_type": "execute_result"
    }
   ],
   "source": [
    "# your answer here\n",
    "employee.Salary.mean()"
   ]
  },
  {
   "cell_type": "markdown",
   "metadata": {},
   "source": [
    "#### What's the highest salary?"
   ]
  },
  {
   "cell_type": "code",
   "execution_count": 139,
   "metadata": {},
   "outputs": [
    {
     "data": {
      "text/plain": [
       "70"
      ]
     },
     "execution_count": 139,
     "metadata": {},
     "output_type": "execute_result"
    }
   ],
   "source": [
    "# your answer here\n",
    "employee.Salary.max()"
   ]
  },
  {
   "cell_type": "markdown",
   "metadata": {},
   "source": [
    "#### What's the lowest salary?"
   ]
  },
  {
   "cell_type": "code",
   "execution_count": 140,
   "metadata": {},
   "outputs": [
    {
     "data": {
      "text/plain": [
       "30"
      ]
     },
     "execution_count": 140,
     "metadata": {},
     "output_type": "execute_result"
    }
   ],
   "source": [
    "# your answer here\n",
    "employee.Salary.min()"
   ]
  },
  {
   "cell_type": "markdown",
   "metadata": {},
   "source": [
    "#### Who are the employees with the lowest salary?"
   ]
  },
  {
   "cell_type": "code",
   "execution_count": 145,
   "metadata": {},
   "outputs": [
    {
     "data": {
      "text/plain": [
       "1    Maria\n",
       "2    David\n",
       "Name: Name, dtype: object"
      ]
     },
     "execution_count": 145,
     "metadata": {},
     "output_type": "execute_result"
    }
   ],
   "source": [
    "# your answer here\n",
    "employee['Name'] [employee['Salary']==30]"
   ]
  },
  {
   "cell_type": "markdown",
   "metadata": {},
   "source": [
    "#### Could you give all the information about an employee called David?"
   ]
  },
  {
   "cell_type": "code",
   "execution_count": 152,
   "metadata": {},
   "outputs": [
    {
     "data": {
      "text/html": [
       "<div>\n",
       "<style scoped>\n",
       "    .dataframe tbody tr th:only-of-type {\n",
       "        vertical-align: middle;\n",
       "    }\n",
       "\n",
       "    .dataframe tbody tr th {\n",
       "        vertical-align: top;\n",
       "    }\n",
       "\n",
       "    .dataframe thead th {\n",
       "        text-align: right;\n",
       "    }\n",
       "</style>\n",
       "<table border=\"1\" class=\"dataframe\">\n",
       "  <thead>\n",
       "    <tr style=\"text-align: right;\">\n",
       "      <th></th>\n",
       "      <th>Name</th>\n",
       "      <th>Department</th>\n",
       "      <th>Education</th>\n",
       "      <th>Gender</th>\n",
       "      <th>Title</th>\n",
       "      <th>Years</th>\n",
       "      <th>Salary</th>\n",
       "    </tr>\n",
       "  </thead>\n",
       "  <tbody>\n",
       "    <tr>\n",
       "      <th>2</th>\n",
       "      <td>David</td>\n",
       "      <td>HR</td>\n",
       "      <td>Master</td>\n",
       "      <td>M</td>\n",
       "      <td>analyst</td>\n",
       "      <td>2</td>\n",
       "      <td>30</td>\n",
       "    </tr>\n",
       "  </tbody>\n",
       "</table>\n",
       "</div>"
      ],
      "text/plain": [
       "    Name Department Education Gender    Title  Years  Salary\n",
       "2  David         HR    Master      M  analyst      2      30"
      ]
     },
     "execution_count": 152,
     "metadata": {},
     "output_type": "execute_result"
    }
   ],
   "source": [
    "# your answer here\n",
    "employee[2:3]"
   ]
  },
  {
   "cell_type": "markdown",
   "metadata": {},
   "source": [
    "#### Could you give only David's salary?"
   ]
  },
  {
   "cell_type": "code",
   "execution_count": 154,
   "metadata": {},
   "outputs": [
    {
     "data": {
      "text/plain": [
       "2    30\n",
       "Name: Salary, dtype: int64"
      ]
     },
     "execution_count": 154,
     "metadata": {},
     "output_type": "execute_result"
    }
   ],
   "source": [
    "# your answer here\n",
    "employee.Salary[2:3]"
   ]
  },
  {
   "cell_type": "markdown",
   "metadata": {},
   "source": [
    "#### Print all the rows where job title is associate"
   ]
  },
  {
   "cell_type": "code",
   "execution_count": 160,
   "metadata": {},
   "outputs": [
    {
     "name": "stdout",
     "output_type": "stream",
     "text": [
      "     Name Department Education Gender      Title  Years  Salary\n",
      "4  Samuel      Sales    Master      M  associate      3      55\n",
      "5     Eva      Sales  Bachelor      F  associate      2      55\n",
      "7   Pedro         IT       Phd      M  associate      7      60\n"
     ]
    }
   ],
   "source": [
    "# your answer here\n",
    "print(employee[employee['Title']=='associate'])"
   ]
  },
  {
   "cell_type": "markdown",
   "metadata": {},
   "source": [
    "#### Print the first 3 rows of your dataframe\n",
    "\n",
    "##### Tip : There are 2 ways to do it. Do it both ways"
   ]
  },
  {
   "cell_type": "code",
   "execution_count": 162,
   "metadata": {},
   "outputs": [
    {
     "name": "stdout",
     "output_type": "stream",
     "text": [
      "    Name Department Education Gender    Title  Years  Salary\n",
      "0   Jose         IT  Bachelor      M  analyst      1      35\n",
      "1  Maria         IT    Master      F  analyst      2      30\n",
      "2  David         HR    Master      M  analyst      2      30\n"
     ]
    }
   ],
   "source": [
    "# your answer here- 1 method\n",
    "print(employee[0:3])\n"
   ]
  },
  {
   "cell_type": "code",
   "execution_count": 164,
   "metadata": {},
   "outputs": [],
   "source": [
    "# your answer here- 2nd method\n"
   ]
  },
  {
   "cell_type": "markdown",
   "metadata": {},
   "source": [
    "#### Find the employees who's title is associate and the salary above 55?"
   ]
  },
  {
   "cell_type": "code",
   "execution_count": 165,
   "metadata": {},
   "outputs": [
    {
     "name": "stderr",
     "output_type": "stream",
     "text": [
      "C:\\Temp\\ipykernel_16100\\2873426624.py:2: UserWarning: Boolean Series key will be reindexed to match DataFrame index.\n",
      "  employee[employee['Title']=='associate'] [employee['Salary']>=50]\n"
     ]
    },
    {
     "data": {
      "text/html": [
       "<div>\n",
       "<style scoped>\n",
       "    .dataframe tbody tr th:only-of-type {\n",
       "        vertical-align: middle;\n",
       "    }\n",
       "\n",
       "    .dataframe tbody tr th {\n",
       "        vertical-align: top;\n",
       "    }\n",
       "\n",
       "    .dataframe thead th {\n",
       "        text-align: right;\n",
       "    }\n",
       "</style>\n",
       "<table border=\"1\" class=\"dataframe\">\n",
       "  <thead>\n",
       "    <tr style=\"text-align: right;\">\n",
       "      <th></th>\n",
       "      <th>Name</th>\n",
       "      <th>Department</th>\n",
       "      <th>Education</th>\n",
       "      <th>Gender</th>\n",
       "      <th>Title</th>\n",
       "      <th>Years</th>\n",
       "      <th>Salary</th>\n",
       "    </tr>\n",
       "  </thead>\n",
       "  <tbody>\n",
       "    <tr>\n",
       "      <th>4</th>\n",
       "      <td>Samuel</td>\n",
       "      <td>Sales</td>\n",
       "      <td>Master</td>\n",
       "      <td>M</td>\n",
       "      <td>associate</td>\n",
       "      <td>3</td>\n",
       "      <td>55</td>\n",
       "    </tr>\n",
       "    <tr>\n",
       "      <th>5</th>\n",
       "      <td>Eva</td>\n",
       "      <td>Sales</td>\n",
       "      <td>Bachelor</td>\n",
       "      <td>F</td>\n",
       "      <td>associate</td>\n",
       "      <td>2</td>\n",
       "      <td>55</td>\n",
       "    </tr>\n",
       "    <tr>\n",
       "      <th>7</th>\n",
       "      <td>Pedro</td>\n",
       "      <td>IT</td>\n",
       "      <td>Phd</td>\n",
       "      <td>M</td>\n",
       "      <td>associate</td>\n",
       "      <td>7</td>\n",
       "      <td>60</td>\n",
       "    </tr>\n",
       "  </tbody>\n",
       "</table>\n",
       "</div>"
      ],
      "text/plain": [
       "     Name Department Education Gender      Title  Years  Salary\n",
       "4  Samuel      Sales    Master      M  associate      3      55\n",
       "5     Eva      Sales  Bachelor      F  associate      2      55\n",
       "7   Pedro         IT       Phd      M  associate      7      60"
      ]
     },
     "execution_count": 165,
     "metadata": {},
     "output_type": "execute_result"
    }
   ],
   "source": [
    "# your answer here\n",
    "employee[employee['Title']=='associate'] [employee['Salary']>=50] "
   ]
  },
  {
   "cell_type": "markdown",
   "metadata": {},
   "source": [
    "#### Group the employees based on their number of years of employment. What are the average salaries in each group?"
   ]
  },
  {
   "cell_type": "code",
   "execution_count": 172,
   "metadata": {},
   "outputs": [],
   "source": [
    "# your answer here\n",
    "group= employee.groupby(employee.Years).mean()"
   ]
  },
  {
   "cell_type": "code",
   "execution_count": 173,
   "metadata": {},
   "outputs": [
    {
     "name": "stdout",
     "output_type": "stream",
     "text": [
      "          Salary\n",
      "Years           \n",
      "1      35.000000\n",
      "2      38.333333\n",
      "3      55.000000\n",
      "4      35.000000\n",
      "7      60.000000\n",
      "8      70.000000\n"
     ]
    }
   ],
   "source": [
    "print(group)"
   ]
  },
  {
   "cell_type": "markdown",
   "metadata": {},
   "source": [
    "####  What is the average Salary per title?"
   ]
  },
  {
   "cell_type": "code",
   "execution_count": 178,
   "metadata": {},
   "outputs": [],
   "source": [
    "# your answer here\n",
    "group= employee.groupby(employee.Title).mean()"
   ]
  },
  {
   "cell_type": "code",
   "execution_count": 184,
   "metadata": {},
   "outputs": [
    {
     "data": {
      "text/plain": [
       "Title\n",
       "VP           70.000000\n",
       "analyst      32.500000\n",
       "associate    56.666667\n",
       "Name: Salary, dtype: float64"
      ]
     },
     "execution_count": 184,
     "metadata": {},
     "output_type": "execute_result"
    }
   ],
   "source": [
    "group.Salary"
   ]
  },
  {
   "cell_type": "markdown",
   "metadata": {},
   "source": [
    "#### Show a visual summary of the data using boxplot. What Are the First and Third Quartiles? Comment your results.\n",
    "##### * Hint : Quantiles vs Quartiles*\n",
    "##### - `In Probability and Statistics, quantiles are cut points dividing the range of a probability distribution into continuous intervals with equal probabilities. When division is into four parts the values of the variate corresponding to 25%, 50% and 75% of the total distribution are called quartiles.`"
   ]
  },
  {
   "cell_type": "code",
   "execution_count": 189,
   "metadata": {},
   "outputs": [
    {
     "name": "stderr",
     "output_type": "stream",
     "text": [
      "c:\\ProgramData\\Anaconda3\\lib\\site-packages\\seaborn\\_decorators.py:36: FutureWarning: Pass the following variable as a keyword arg: x. From version 0.12, the only valid positional argument will be `data`, and passing other arguments without an explicit keyword will result in an error or misinterpretation.\n",
      "  warnings.warn(\n"
     ]
    },
    {
     "data": {
      "image/png": "[encoded data removed]",
      "text/plain": [
       "<Figure size 640x480 with 1 Axes>"
      ]
     },
     "metadata": {},
     "output_type": "display_data"
    }
   ],
   "source": [
    "# draw boxplot here\n",
    "sb.boxplot(employee.Salary);"
   ]
  },
  {
   "cell_type": "code",
   "execution_count": 194,
   "metadata": {},
   "outputs": [],
   "source": [
    "import scipy as sc"
   ]
  },
  {
   "cell_type": "code",
   "execution_count": 201,
   "metadata": {},
   "outputs": [
    {
     "data": {
      "text/plain": [
       "35.0"
      ]
     },
     "execution_count": 201,
     "metadata": {},
     "output_type": "execute_result"
    }
   ],
   "source": [
    "# print first quartile here\n",
    "np.quantile(employee.Salary, 0.25)"
   ]
  },
  {
   "cell_type": "code",
   "execution_count": 200,
   "metadata": {},
   "outputs": [
    {
     "data": {
      "text/plain": [
       "60.0"
      ]
     },
     "execution_count": 200,
     "metadata": {},
     "output_type": "execute_result"
    }
   ],
   "source": [
    "# print third quartile here\n",
    "np.quantile(employee.Salary, 0.75)"
   ]
  },
  {
   "cell_type": "markdown",
   "metadata": {},
   "source": [
    "#### Is the mean salary per gender different?"
   ]
  },
  {
   "cell_type": "code",
   "execution_count": 299,
   "metadata": {},
   "outputs": [],
   "source": [
    "# your answer here\n",
    "gender= employee.groupby(employee.Gender).mean()"
   ]
  },
  {
   "cell_type": "code",
   "execution_count": 303,
   "metadata": {},
   "outputs": [
    {
     "data": {
      "text/plain": [
       "Gender\n",
       "F    47.5\n",
       "M    50.0\n",
       "Name: Salary, dtype: float64"
      ]
     },
     "execution_count": 303,
     "metadata": {},
     "output_type": "execute_result"
    }
   ],
   "source": [
    "gender.Salary"
   ]
  },
  {
   "cell_type": "code",
   "execution_count": 286,
   "metadata": {},
   "outputs": [
    {
     "data": {
      "text/plain": [
       "Gender\n",
       "F    4\n",
       "M    5\n",
       "Name: Salary, dtype: int64"
      ]
     },
     "execution_count": 286,
     "metadata": {},
     "output_type": "execute_result"
    }
   ],
   "source": [
    "gender.Salary"
   ]
  },
  {
   "cell_type": "markdown",
   "metadata": {},
   "source": [
    "#### Find the minimum, mean and the maximum of all numeric columns for each Department.\n",
    "\n",
    "##### Hint: Use functions from Data Manipulation lesson"
   ]
  },
  {
   "cell_type": "code",
   "execution_count": 213,
   "metadata": {},
   "outputs": [],
   "source": [
    "# your answer here\n",
    "me= employee.groupby(employee.Department).mean()"
   ]
  },
  {
   "cell_type": "code",
   "execution_count": 214,
   "metadata": {},
   "outputs": [
    {
     "data": {
      "text/plain": [
       "Department\n",
       "HR       45.00\n",
       "IT       48.75\n",
       "Sales    55.00\n",
       "Name: Salary, dtype: float64"
      ]
     },
     "execution_count": 214,
     "metadata": {},
     "output_type": "execute_result"
    }
   ],
   "source": [
    "me.Salary"
   ]
  },
  {
   "cell_type": "code",
   "execution_count": 220,
   "metadata": {},
   "outputs": [
    {
     "data": {
      "text/plain": [
       "Department\n",
       "HR       4.666667\n",
       "IT       4.500000\n",
       "Sales    2.500000\n",
       "Name: Years, dtype: float64"
      ]
     },
     "execution_count": 220,
     "metadata": {},
     "output_type": "execute_result"
    }
   ],
   "source": [
    "me.Years"
   ]
  },
  {
   "cell_type": "code",
   "execution_count": 219,
   "metadata": {},
   "outputs": [
    {
     "data": {
      "text/plain": [
       "Department\n",
       "HR       2\n",
       "IT       1\n",
       "Sales    2\n",
       "Name: Years, dtype: int64"
      ]
     },
     "execution_count": 219,
     "metadata": {},
     "output_type": "execute_result"
    }
   ],
   "source": [
    "min= employee.groupby(employee.Department).min()\n",
    "min.Salary"
   ]
  },
  {
   "cell_type": "code",
   "execution_count": 221,
   "metadata": {},
   "outputs": [
    {
     "data": {
      "text/plain": [
       "Department\n",
       "HR       2\n",
       "IT       1\n",
       "Sales    2\n",
       "Name: Years, dtype: int64"
      ]
     },
     "execution_count": 221,
     "metadata": {},
     "output_type": "execute_result"
    }
   ],
   "source": [
    "min.Years"
   ]
  },
  {
   "cell_type": "code",
   "execution_count": 217,
   "metadata": {},
   "outputs": [
    {
     "data": {
      "text/plain": [
       "Department\n",
       "HR       70\n",
       "IT       70\n",
       "Sales    55\n",
       "Name: Salary, dtype: int64"
      ]
     },
     "execution_count": 217,
     "metadata": {},
     "output_type": "execute_result"
    }
   ],
   "source": [
    "max=employee.groupby(employee.Department).max()\n",
    "max.Salary"
   ]
  },
  {
   "cell_type": "code",
   "execution_count": 218,
   "metadata": {},
   "outputs": [
    {
     "data": {
      "text/plain": [
       "Department\n",
       "HR       8\n",
       "IT       8\n",
       "Sales    3\n",
       "Name: Years, dtype: int64"
      ]
     },
     "execution_count": 218,
     "metadata": {},
     "output_type": "execute_result"
    }
   ],
   "source": [
    "max.Years"
   ]
  },
  {
   "cell_type": "markdown",
   "metadata": {},
   "source": [
    "### Bonus Question\n",
    "\n",
    "#### For each department, compute the difference between the maximal salary and the minimal salary.\n",
    "\n",
    "##### * Hint: try using `agg` or `apply` and `lambda`*"
   ]
  },
  {
   "cell_type": "code",
   "execution_count": 240,
   "metadata": {},
   "outputs": [
    {
     "data": {
      "text/plain": [
       "Department\n",
       "HR       40\n",
       "IT       40\n",
       "Sales     0\n",
       "Name: Salary, dtype: int64"
      ]
     },
     "execution_count": 240,
     "metadata": {},
     "output_type": "execute_result"
    }
   ],
   "source": [
    "# your answer here\n",
    "Bonus= employee.groupby(employee.Department).Salary.max() - employee.groupby(employee.Department).Salary.min()\n",
    "Bonus\n"
   ]
  },
  {
   "cell_type": "code",
   "execution_count": 241,
   "metadata": {},
   "outputs": [
    {
     "data": {
      "text/plain": [
       "Department\n",
       "HR       70\n",
       "IT       70\n",
       "Sales    55\n",
       "Name: Salary, dtype: int64"
      ]
     },
     "execution_count": 241,
     "metadata": {},
     "output_type": "execute_result"
    }
   ],
   "source": [
    "employee.groupby(employee.Department).Salary.max()"
   ]
  },
  {
   "cell_type": "code",
   "execution_count": 242,
   "metadata": {},
   "outputs": [
    {
     "data": {
      "text/plain": [
       "Department\n",
       "HR       30\n",
       "IT       30\n",
       "Sales    55\n",
       "Name: Salary, dtype: int64"
      ]
     },
     "execution_count": 242,
     "metadata": {},
     "output_type": "execute_result"
    }
   ],
   "source": [
    "employee.groupby(employee.Department).Salary.min()"
   ]
  },
  {
   "cell_type": "markdown",
   "metadata": {
    "collapsed": true
   },
   "source": [
    "# Challenge 3"
   ]
  },
  {
   "cell_type": "markdown",
   "metadata": {},
   "source": [
    "#### Open the Orders.csv dataset. Name your dataset orders"
   ]
  },
  {
   "cell_type": "code",
   "execution_count": 243,
   "metadata": {
    "collapsed": true
   },
   "outputs": [],
   "source": [
    "# your answer here\n",
    "orders= pd.read_csv(r'C:\\Users\\Héctor\\Documents\\IRONHACK\\DATA ANALIST\\BOOTCAMP\\Labs\\Semana 5\\5.1-lab-subsetting-and-descriptive-stats\\your-code\\Orders.csv')"
   ]
  },
  {
   "cell_type": "markdown",
   "metadata": {},
   "source": [
    "#### Explore your dataset by looking at the data types and the summary statistics. Comment your results"
   ]
  },
  {
   "cell_type": "code",
   "execution_count": 271,
   "metadata": {
    "collapsed": true
   },
   "outputs": [
    {
     "data": {
      "text/html": [
       "<div>\n",
       "<style scoped>\n",
       "    .dataframe tbody tr th:only-of-type {\n",
       "        vertical-align: middle;\n",
       "    }\n",
       "\n",
       "    .dataframe tbody tr th {\n",
       "        vertical-align: top;\n",
       "    }\n",
       "\n",
       "    .dataframe thead th {\n",
       "        text-align: right;\n",
       "    }\n",
       "</style>\n",
       "<table border=\"1\" class=\"dataframe\">\n",
       "  <thead>\n",
       "    <tr style=\"text-align: right;\">\n",
       "      <th></th>\n",
       "      <th>Unnamed: 0</th>\n",
       "      <th>InvoiceNo</th>\n",
       "      <th>StockCode</th>\n",
       "      <th>year</th>\n",
       "      <th>month</th>\n",
       "      <th>day</th>\n",
       "      <th>hour</th>\n",
       "      <th>Description</th>\n",
       "      <th>Quantity</th>\n",
       "      <th>InvoiceDate</th>\n",
       "      <th>UnitPrice</th>\n",
       "      <th>CustomerID</th>\n",
       "      <th>Country</th>\n",
       "      <th>amount_spent</th>\n",
       "    </tr>\n",
       "  </thead>\n",
       "  <tbody>\n",
       "    <tr>\n",
       "      <th>0</th>\n",
       "      <td>0</td>\n",
       "      <td>536365</td>\n",
       "      <td>85123A</td>\n",
       "      <td>2010</td>\n",
       "      <td>12</td>\n",
       "      <td>3</td>\n",
       "      <td>8</td>\n",
       "      <td>white hanging heart t-light holder</td>\n",
       "      <td>6</td>\n",
       "      <td>2010-12-01 08:26:00</td>\n",
       "      <td>2.55</td>\n",
       "      <td>17850</td>\n",
       "      <td>United Kingdom</td>\n",
       "      <td>15.30</td>\n",
       "    </tr>\n",
       "    <tr>\n",
       "      <th>1</th>\n",
       "      <td>1</td>\n",
       "      <td>536365</td>\n",
       "      <td>71053</td>\n",
       "      <td>2010</td>\n",
       "      <td>12</td>\n",
       "      <td>3</td>\n",
       "      <td>8</td>\n",
       "      <td>white metal lantern</td>\n",
       "      <td>6</td>\n",
       "      <td>2010-12-01 08:26:00</td>\n",
       "      <td>3.39</td>\n",
       "      <td>17850</td>\n",
       "      <td>United Kingdom</td>\n",
       "      <td>20.34</td>\n",
       "    </tr>\n",
       "    <tr>\n",
       "      <th>2</th>\n",
       "      <td>2</td>\n",
       "      <td>536365</td>\n",
       "      <td>84406B</td>\n",
       "      <td>2010</td>\n",
       "      <td>12</td>\n",
       "      <td>3</td>\n",
       "      <td>8</td>\n",
       "      <td>cream cupid hearts coat hanger</td>\n",
       "      <td>8</td>\n",
       "      <td>2010-12-01 08:26:00</td>\n",
       "      <td>2.75</td>\n",
       "      <td>17850</td>\n",
       "      <td>United Kingdom</td>\n",
       "      <td>22.00</td>\n",
       "    </tr>\n",
       "    <tr>\n",
       "      <th>3</th>\n",
       "      <td>3</td>\n",
       "      <td>536365</td>\n",
       "      <td>84029G</td>\n",
       "      <td>2010</td>\n",
       "      <td>12</td>\n",
       "      <td>3</td>\n",
       "      <td>8</td>\n",
       "      <td>knitted union flag hot water bottle</td>\n",
       "      <td>6</td>\n",
       "      <td>2010-12-01 08:26:00</td>\n",
       "      <td>3.39</td>\n",
       "      <td>17850</td>\n",
       "      <td>United Kingdom</td>\n",
       "      <td>20.34</td>\n",
       "    </tr>\n",
       "    <tr>\n",
       "      <th>4</th>\n",
       "      <td>4</td>\n",
       "      <td>536365</td>\n",
       "      <td>84029E</td>\n",
       "      <td>2010</td>\n",
       "      <td>12</td>\n",
       "      <td>3</td>\n",
       "      <td>8</td>\n",
       "      <td>red woolly hottie white heart.</td>\n",
       "      <td>6</td>\n",
       "      <td>2010-12-01 08:26:00</td>\n",
       "      <td>3.39</td>\n",
       "      <td>17850</td>\n",
       "      <td>United Kingdom</td>\n",
       "      <td>20.34</td>\n",
       "    </tr>\n",
       "    <tr>\n",
       "      <th>...</th>\n",
       "      <td>...</td>\n",
       "      <td>...</td>\n",
       "      <td>...</td>\n",
       "      <td>...</td>\n",
       "      <td>...</td>\n",
       "      <td>...</td>\n",
       "      <td>...</td>\n",
       "      <td>...</td>\n",
       "      <td>...</td>\n",
       "      <td>...</td>\n",
       "      <td>...</td>\n",
       "      <td>...</td>\n",
       "      <td>...</td>\n",
       "      <td>...</td>\n",
       "    </tr>\n",
       "    <tr>\n",
       "      <th>397919</th>\n",
       "      <td>541904</td>\n",
       "      <td>581587</td>\n",
       "      <td>22613</td>\n",
       "      <td>2011</td>\n",
       "      <td>12</td>\n",
       "      <td>5</td>\n",
       "      <td>12</td>\n",
       "      <td>pack of 20 spaceboy napkins</td>\n",
       "      <td>12</td>\n",
       "      <td>2011-12-09 12:50:00</td>\n",
       "      <td>0.85</td>\n",
       "      <td>12680</td>\n",
       "      <td>France</td>\n",
       "      <td>10.20</td>\n",
       "    </tr>\n",
       "    <tr>\n",
       "      <th>397920</th>\n",
       "      <td>541905</td>\n",
       "      <td>581587</td>\n",
       "      <td>22899</td>\n",
       "      <td>2011</td>\n",
       "      <td>12</td>\n",
       "      <td>5</td>\n",
       "      <td>12</td>\n",
       "      <td>children's apron dolly girl</td>\n",
       "      <td>6</td>\n",
       "      <td>2011-12-09 12:50:00</td>\n",
       "      <td>2.10</td>\n",
       "      <td>12680</td>\n",
       "      <td>France</td>\n",
       "      <td>12.60</td>\n",
       "    </tr>\n",
       "    <tr>\n",
       "      <th>397921</th>\n",
       "      <td>541906</td>\n",
       "      <td>581587</td>\n",
       "      <td>23254</td>\n",
       "      <td>2011</td>\n",
       "      <td>12</td>\n",
       "      <td>5</td>\n",
       "      <td>12</td>\n",
       "      <td>childrens cutlery dolly girl</td>\n",
       "      <td>4</td>\n",
       "      <td>2011-12-09 12:50:00</td>\n",
       "      <td>4.15</td>\n",
       "      <td>12680</td>\n",
       "      <td>France</td>\n",
       "      <td>16.60</td>\n",
       "    </tr>\n",
       "    <tr>\n",
       "      <th>397922</th>\n",
       "      <td>541907</td>\n",
       "      <td>581587</td>\n",
       "      <td>23255</td>\n",
       "      <td>2011</td>\n",
       "      <td>12</td>\n",
       "      <td>5</td>\n",
       "      <td>12</td>\n",
       "      <td>childrens cutlery circus parade</td>\n",
       "      <td>4</td>\n",
       "      <td>2011-12-09 12:50:00</td>\n",
       "      <td>4.15</td>\n",
       "      <td>12680</td>\n",
       "      <td>France</td>\n",
       "      <td>16.60</td>\n",
       "    </tr>\n",
       "    <tr>\n",
       "      <th>397923</th>\n",
       "      <td>541908</td>\n",
       "      <td>581587</td>\n",
       "      <td>22138</td>\n",
       "      <td>2011</td>\n",
       "      <td>12</td>\n",
       "      <td>5</td>\n",
       "      <td>12</td>\n",
       "      <td>baking set 9 piece retrospot</td>\n",
       "      <td>3</td>\n",
       "      <td>2011-12-09 12:50:00</td>\n",
       "      <td>4.95</td>\n",
       "      <td>12680</td>\n",
       "      <td>France</td>\n",
       "      <td>14.85</td>\n",
       "    </tr>\n",
       "  </tbody>\n",
       "</table>\n",
       "<p>397924 rows × 14 columns</p>\n",
       "</div>"
      ],
      "text/plain": [
       "        Unnamed: 0  InvoiceNo StockCode  year  month  day  hour  \\\n",
       "0                0     536365    85123A  2010     12    3     8   \n",
       "1                1     536365     71053  2010     12    3     8   \n",
       "2                2     536365    84406B  2010     12    3     8   \n",
       "3                3     536365    84029G  2010     12    3     8   \n",
       "4                4     536365    84029E  2010     12    3     8   \n",
       "...            ...        ...       ...   ...    ...  ...   ...   \n",
       "397919      541904     581587     22613  2011     12    5    12   \n",
       "397920      541905     581587     22899  2011     12    5    12   \n",
       "397921      541906     581587     23254  2011     12    5    12   \n",
       "397922      541907     581587     23255  2011     12    5    12   \n",
       "397923      541908     581587     22138  2011     12    5    12   \n",
       "\n",
       "                                Description  Quantity          InvoiceDate  \\\n",
       "0        white hanging heart t-light holder         6  2010-12-01 08:26:00   \n",
       "1                       white metal lantern         6  2010-12-01 08:26:00   \n",
       "2            cream cupid hearts coat hanger         8  2010-12-01 08:26:00   \n",
       "3       knitted union flag hot water bottle         6  2010-12-01 08:26:00   \n",
       "4            red woolly hottie white heart.         6  2010-12-01 08:26:00   \n",
       "...                                     ...       ...                  ...   \n",
       "397919          pack of 20 spaceboy napkins        12  2011-12-09 12:50:00   \n",
       "397920         children's apron dolly girl          6  2011-12-09 12:50:00   \n",
       "397921        childrens cutlery dolly girl          4  2011-12-09 12:50:00   \n",
       "397922      childrens cutlery circus parade         4  2011-12-09 12:50:00   \n",
       "397923        baking set 9 piece retrospot          3  2011-12-09 12:50:00   \n",
       "\n",
       "        UnitPrice  CustomerID         Country  amount_spent  \n",
       "0            2.55       17850  United Kingdom         15.30  \n",
       "1            3.39       17850  United Kingdom         20.34  \n",
       "2            2.75       17850  United Kingdom         22.00  \n",
       "3            3.39       17850  United Kingdom         20.34  \n",
       "4            3.39       17850  United Kingdom         20.34  \n",
       "...           ...         ...             ...           ...  \n",
       "397919       0.85       12680          France         10.20  \n",
       "397920       2.10       12680          France         12.60  \n",
       "397921       4.15       12680          France         16.60  \n",
       "397922       4.15       12680          France         16.60  \n",
       "397923       4.95       12680          France         14.85  \n",
       "\n",
       "[397924 rows x 14 columns]"
      ]
     },
     "execution_count": 271,
     "metadata": {},
     "output_type": "execute_result"
    }
   ],
   "source": [
    "# your answer here\n",
    "orders"
   ]
  },
  {
   "cell_type": "code",
   "execution_count": null,
   "metadata": {
    "collapsed": true
   },
   "outputs": [],
   "source": [
    "# your answer here"
   ]
  },
  {
   "cell_type": "markdown",
   "metadata": {},
   "source": [
    "####  What is the average Purchase Price?"
   ]
  },
  {
   "cell_type": "code",
   "execution_count": 247,
   "metadata": {
    "collapsed": true
   },
   "outputs": [
    {
     "data": {
      "text/plain": [
       "3.116174480549152"
      ]
     },
     "execution_count": 247,
     "metadata": {},
     "output_type": "execute_result"
    }
   ],
   "source": [
    "# your answer here\n",
    "orders.UnitPrice.mean()"
   ]
  },
  {
   "cell_type": "markdown",
   "metadata": {},
   "source": [
    "#### What were the highest and lowest purchase prices? "
   ]
  },
  {
   "cell_type": "code",
   "execution_count": 248,
   "metadata": {
    "collapsed": true
   },
   "outputs": [
    {
     "data": {
      "text/plain": [
       "8142.75"
      ]
     },
     "execution_count": 248,
     "metadata": {},
     "output_type": "execute_result"
    }
   ],
   "source": [
    "# your answer here\n",
    "orders.UnitPrice.max()"
   ]
  },
  {
   "cell_type": "code",
   "execution_count": 249,
   "metadata": {
    "collapsed": true
   },
   "outputs": [
    {
     "data": {
      "text/plain": [
       "0.0"
      ]
     },
     "execution_count": 249,
     "metadata": {},
     "output_type": "execute_result"
    }
   ],
   "source": [
    "# your answer here\n",
    "orders.UnitPrice.min()"
   ]
  },
  {
   "cell_type": "markdown",
   "metadata": {},
   "source": [
    "#### Select all the customers we have in Spain"
   ]
  },
  {
   "cell_type": "code",
   "execution_count": 261,
   "metadata": {
    "collapsed": true
   },
   "outputs": [
    {
     "data": {
      "text/plain": [
       "4250      Spain\n",
       "4251      Spain\n",
       "4252      Spain\n",
       "4253      Spain\n",
       "4254      Spain\n",
       "          ...  \n",
       "394733    Spain\n",
       "394734    Spain\n",
       "394735    Spain\n",
       "394736    Spain\n",
       "394737    Spain\n",
       "Name: Country, Length: 2485, dtype: object"
      ]
     },
     "execution_count": 261,
     "metadata": {},
     "output_type": "execute_result"
    }
   ],
   "source": [
    "# your answer h\n",
    "orders.Country[orders['Country']=='Spain']"
   ]
  },
  {
   "cell_type": "markdown",
   "metadata": {},
   "source": [
    "#### How many customers do we have in Spain?\n",
    "##### Hint : Use value_counts()"
   ]
  },
  {
   "cell_type": "code",
   "execution_count": 260,
   "metadata": {
    "collapsed": true
   },
   "outputs": [
    {
     "data": {
      "text/plain": [
       "Spain    2485\n",
       "Name: Country, dtype: int64"
      ]
     },
     "execution_count": 260,
     "metadata": {},
     "output_type": "execute_result"
    }
   ],
   "source": [
    "# your answer here\n",
    "orders.Country[orders['Country']=='Spain'].value_counts()"
   ]
  },
  {
   "cell_type": "markdown",
   "metadata": {},
   "source": [
    "#### Select all the customers who have bought more than 50 items ?"
   ]
  },
  {
   "cell_type": "code",
   "execution_count": 262,
   "metadata": {
    "collapsed": true
   },
   "outputs": [
    {
     "data": {
      "text/plain": [
       "46         80\n",
       "83         64\n",
       "96        120\n",
       "102        96\n",
       "174       100\n",
       "         ... \n",
       "397720    144\n",
       "397721     84\n",
       "397729    144\n",
       "397761     96\n",
       "397882     72\n",
       "Name: Quantity, Length: 11609, dtype: int64"
      ]
     },
     "execution_count": 262,
     "metadata": {},
     "output_type": "execute_result"
    }
   ],
   "source": [
    "# your answer here\n",
    "orders.Quantity[orders['Quantity']>50]"
   ]
  },
  {
   "cell_type": "markdown",
   "metadata": {},
   "source": [
    "#### Select orders from Spain that are above 50 items"
   ]
  },
  {
   "cell_type": "code",
   "execution_count": 266,
   "metadata": {
    "collapsed": true
   },
   "outputs": [
    {
     "data": {
      "text/html": [
       "<div>\n",
       "<style scoped>\n",
       "    .dataframe tbody tr th:only-of-type {\n",
       "        vertical-align: middle;\n",
       "    }\n",
       "\n",
       "    .dataframe tbody tr th {\n",
       "        vertical-align: top;\n",
       "    }\n",
       "\n",
       "    .dataframe thead th {\n",
       "        text-align: right;\n",
       "    }\n",
       "</style>\n",
       "<table border=\"1\" class=\"dataframe\">\n",
       "  <thead>\n",
       "    <tr style=\"text-align: right;\">\n",
       "      <th></th>\n",
       "      <th>Quantity</th>\n",
       "    </tr>\n",
       "  </thead>\n",
       "  <tbody>\n",
       "    <tr>\n",
       "      <th>4250</th>\n",
       "      <td>70</td>\n",
       "    </tr>\n",
       "    <tr>\n",
       "      <th>4251</th>\n",
       "      <td>100</td>\n",
       "    </tr>\n",
       "    <tr>\n",
       "      <th>4252</th>\n",
       "      <td>60</td>\n",
       "    </tr>\n",
       "    <tr>\n",
       "      <th>4253</th>\n",
       "      <td>70</td>\n",
       "    </tr>\n",
       "    <tr>\n",
       "      <th>4254</th>\n",
       "      <td>100</td>\n",
       "    </tr>\n",
       "    <tr>\n",
       "      <th>32454</th>\n",
       "      <td>144</td>\n",
       "    </tr>\n",
       "    <tr>\n",
       "      <th>32455</th>\n",
       "      <td>360</td>\n",
       "    </tr>\n",
       "    <tr>\n",
       "      <th>32456</th>\n",
       "      <td>360</td>\n",
       "    </tr>\n",
       "    <tr>\n",
       "      <th>32457</th>\n",
       "      <td>144</td>\n",
       "    </tr>\n",
       "    <tr>\n",
       "      <th>91155</th>\n",
       "      <td>150</td>\n",
       "    </tr>\n",
       "    <tr>\n",
       "      <th>91156</th>\n",
       "      <td>150</td>\n",
       "    </tr>\n",
       "    <tr>\n",
       "      <th>91159</th>\n",
       "      <td>150</td>\n",
       "    </tr>\n",
       "    <tr>\n",
       "      <th>174442</th>\n",
       "      <td>100</td>\n",
       "    </tr>\n",
       "    <tr>\n",
       "      <th>174443</th>\n",
       "      <td>100</td>\n",
       "    </tr>\n",
       "    <tr>\n",
       "      <th>174444</th>\n",
       "      <td>100</td>\n",
       "    </tr>\n",
       "    <tr>\n",
       "      <th>174445</th>\n",
       "      <td>100</td>\n",
       "    </tr>\n",
       "    <tr>\n",
       "      <th>174446</th>\n",
       "      <td>72</td>\n",
       "    </tr>\n",
       "    <tr>\n",
       "      <th>174447</th>\n",
       "      <td>360</td>\n",
       "    </tr>\n",
       "    <tr>\n",
       "      <th>174448</th>\n",
       "      <td>360</td>\n",
       "    </tr>\n",
       "    <tr>\n",
       "      <th>174449</th>\n",
       "      <td>72</td>\n",
       "    </tr>\n",
       "    <tr>\n",
       "      <th>197167</th>\n",
       "      <td>128</td>\n",
       "    </tr>\n",
       "    <tr>\n",
       "      <th>197168</th>\n",
       "      <td>144</td>\n",
       "    </tr>\n",
       "    <tr>\n",
       "      <th>197169</th>\n",
       "      <td>128</td>\n",
       "    </tr>\n",
       "    <tr>\n",
       "      <th>197170</th>\n",
       "      <td>128</td>\n",
       "    </tr>\n",
       "    <tr>\n",
       "      <th>197171</th>\n",
       "      <td>128</td>\n",
       "    </tr>\n",
       "    <tr>\n",
       "      <th>224881</th>\n",
       "      <td>60</td>\n",
       "    </tr>\n",
       "    <tr>\n",
       "      <th>254097</th>\n",
       "      <td>96</td>\n",
       "    </tr>\n",
       "    <tr>\n",
       "      <th>289129</th>\n",
       "      <td>72</td>\n",
       "    </tr>\n",
       "    <tr>\n",
       "      <th>289134</th>\n",
       "      <td>72</td>\n",
       "    </tr>\n",
       "    <tr>\n",
       "      <th>289142</th>\n",
       "      <td>200</td>\n",
       "    </tr>\n",
       "    <tr>\n",
       "      <th>289143</th>\n",
       "      <td>288</td>\n",
       "    </tr>\n",
       "    <tr>\n",
       "      <th>295956</th>\n",
       "      <td>96</td>\n",
       "    </tr>\n",
       "    <tr>\n",
       "      <th>312655</th>\n",
       "      <td>72</td>\n",
       "    </tr>\n",
       "    <tr>\n",
       "      <th>312656</th>\n",
       "      <td>72</td>\n",
       "    </tr>\n",
       "    <tr>\n",
       "      <th>312657</th>\n",
       "      <td>72</td>\n",
       "    </tr>\n",
       "    <tr>\n",
       "      <th>366326</th>\n",
       "      <td>200</td>\n",
       "    </tr>\n",
       "    <tr>\n",
       "      <th>366327</th>\n",
       "      <td>72</td>\n",
       "    </tr>\n",
       "    <tr>\n",
       "      <th>366328</th>\n",
       "      <td>360</td>\n",
       "    </tr>\n",
       "    <tr>\n",
       "      <th>366329</th>\n",
       "      <td>288</td>\n",
       "    </tr>\n",
       "  </tbody>\n",
       "</table>\n",
       "</div>"
      ],
      "text/plain": [
       "        Quantity\n",
       "4250          70\n",
       "4251         100\n",
       "4252          60\n",
       "4253          70\n",
       "4254         100\n",
       "32454        144\n",
       "32455        360\n",
       "32456        360\n",
       "32457        144\n",
       "91155        150\n",
       "91156        150\n",
       "91159        150\n",
       "174442       100\n",
       "174443       100\n",
       "174444       100\n",
       "174445       100\n",
       "174446        72\n",
       "174447       360\n",
       "174448       360\n",
       "174449        72\n",
       "197167       128\n",
       "197168       144\n",
       "197169       128\n",
       "197170       128\n",
       "197171       128\n",
       "224881        60\n",
       "254097        96\n",
       "289129        72\n",
       "289134        72\n",
       "289142       200\n",
       "289143       288\n",
       "295956        96\n",
       "312655        72\n",
       "312656        72\n",
       "312657        72\n",
       "366326       200\n",
       "366327        72\n",
       "366328       360\n",
       "366329       288"
      ]
     },
     "execution_count": 266,
     "metadata": {},
     "output_type": "execute_result"
    }
   ],
   "source": [
    "# your answer here\n",
    "Qua_sp= pd.DataFrame(orders.Quantity[orders['Quantity']>50] [orders['Country']=='Spain'])\n",
    "\n",
    "Qua_sp"
   ]
  },
  {
   "cell_type": "markdown",
   "metadata": {},
   "source": [
    "#### Select all free orders"
   ]
  },
  {
   "cell_type": "code",
   "execution_count": 277,
   "metadata": {
    "collapsed": true
   },
   "outputs": [
    {
     "data": {
      "text/html": [
       "<div>\n",
       "<style scoped>\n",
       "    .dataframe tbody tr th:only-of-type {\n",
       "        vertical-align: middle;\n",
       "    }\n",
       "\n",
       "    .dataframe tbody tr th {\n",
       "        vertical-align: top;\n",
       "    }\n",
       "\n",
       "    .dataframe thead th {\n",
       "        text-align: right;\n",
       "    }\n",
       "</style>\n",
       "<table border=\"1\" class=\"dataframe\">\n",
       "  <thead>\n",
       "    <tr style=\"text-align: right;\">\n",
       "      <th></th>\n",
       "      <th>Unnamed: 0</th>\n",
       "      <th>InvoiceNo</th>\n",
       "      <th>StockCode</th>\n",
       "      <th>year</th>\n",
       "      <th>month</th>\n",
       "      <th>day</th>\n",
       "      <th>hour</th>\n",
       "      <th>Description</th>\n",
       "      <th>Quantity</th>\n",
       "      <th>InvoiceDate</th>\n",
       "      <th>UnitPrice</th>\n",
       "      <th>CustomerID</th>\n",
       "      <th>Country</th>\n",
       "      <th>amount_spent</th>\n",
       "    </tr>\n",
       "  </thead>\n",
       "  <tbody>\n",
       "    <tr>\n",
       "      <th>6914</th>\n",
       "      <td>9302</td>\n",
       "      <td>537197</td>\n",
       "      <td>22841</td>\n",
       "      <td>2010</td>\n",
       "      <td>12</td>\n",
       "      <td>7</td>\n",
       "      <td>14</td>\n",
       "      <td>round cake tin vintage green</td>\n",
       "      <td>1</td>\n",
       "      <td>2010-12-05 14:02:00</td>\n",
       "      <td>0.0</td>\n",
       "      <td>12647</td>\n",
       "      <td>Germany</td>\n",
       "      <td>0.0</td>\n",
       "    </tr>\n",
       "    <tr>\n",
       "      <th>22539</th>\n",
       "      <td>33576</td>\n",
       "      <td>539263</td>\n",
       "      <td>22580</td>\n",
       "      <td>2010</td>\n",
       "      <td>12</td>\n",
       "      <td>4</td>\n",
       "      <td>14</td>\n",
       "      <td>advent calendar gingham sack</td>\n",
       "      <td>4</td>\n",
       "      <td>2010-12-16 14:36:00</td>\n",
       "      <td>0.0</td>\n",
       "      <td>16560</td>\n",
       "      <td>United Kingdom</td>\n",
       "      <td>0.0</td>\n",
       "    </tr>\n",
       "    <tr>\n",
       "      <th>25379</th>\n",
       "      <td>40089</td>\n",
       "      <td>539722</td>\n",
       "      <td>22423</td>\n",
       "      <td>2010</td>\n",
       "      <td>12</td>\n",
       "      <td>2</td>\n",
       "      <td>13</td>\n",
       "      <td>regency cakestand 3 tier</td>\n",
       "      <td>10</td>\n",
       "      <td>2010-12-21 13:45:00</td>\n",
       "      <td>0.0</td>\n",
       "      <td>14911</td>\n",
       "      <td>EIRE</td>\n",
       "      <td>0.0</td>\n",
       "    </tr>\n",
       "    <tr>\n",
       "      <th>29080</th>\n",
       "      <td>47068</td>\n",
       "      <td>540372</td>\n",
       "      <td>22090</td>\n",
       "      <td>2011</td>\n",
       "      <td>1</td>\n",
       "      <td>4</td>\n",
       "      <td>16</td>\n",
       "      <td>paper bunting retrospot</td>\n",
       "      <td>24</td>\n",
       "      <td>2011-01-06 16:41:00</td>\n",
       "      <td>0.0</td>\n",
       "      <td>13081</td>\n",
       "      <td>United Kingdom</td>\n",
       "      <td>0.0</td>\n",
       "    </tr>\n",
       "    <tr>\n",
       "      <th>29082</th>\n",
       "      <td>47070</td>\n",
       "      <td>540372</td>\n",
       "      <td>22553</td>\n",
       "      <td>2011</td>\n",
       "      <td>1</td>\n",
       "      <td>4</td>\n",
       "      <td>16</td>\n",
       "      <td>plasters in tin skulls</td>\n",
       "      <td>24</td>\n",
       "      <td>2011-01-06 16:41:00</td>\n",
       "      <td>0.0</td>\n",
       "      <td>13081</td>\n",
       "      <td>United Kingdom</td>\n",
       "      <td>0.0</td>\n",
       "    </tr>\n",
       "    <tr>\n",
       "      <th>34494</th>\n",
       "      <td>56674</td>\n",
       "      <td>541109</td>\n",
       "      <td>22168</td>\n",
       "      <td>2011</td>\n",
       "      <td>1</td>\n",
       "      <td>4</td>\n",
       "      <td>15</td>\n",
       "      <td>organiser wood antique white</td>\n",
       "      <td>1</td>\n",
       "      <td>2011-01-13 15:10:00</td>\n",
       "      <td>0.0</td>\n",
       "      <td>15107</td>\n",
       "      <td>United Kingdom</td>\n",
       "      <td>0.0</td>\n",
       "    </tr>\n",
       "    <tr>\n",
       "      <th>53788</th>\n",
       "      <td>86789</td>\n",
       "      <td>543599</td>\n",
       "      <td>84535B</td>\n",
       "      <td>2011</td>\n",
       "      <td>2</td>\n",
       "      <td>4</td>\n",
       "      <td>13</td>\n",
       "      <td>fairy cakes notebook a6 size</td>\n",
       "      <td>16</td>\n",
       "      <td>2011-02-10 13:08:00</td>\n",
       "      <td>0.0</td>\n",
       "      <td>17560</td>\n",
       "      <td>United Kingdom</td>\n",
       "      <td>0.0</td>\n",
       "    </tr>\n",
       "    <tr>\n",
       "      <th>85671</th>\n",
       "      <td>130188</td>\n",
       "      <td>547417</td>\n",
       "      <td>22062</td>\n",
       "      <td>2011</td>\n",
       "      <td>3</td>\n",
       "      <td>3</td>\n",
       "      <td>10</td>\n",
       "      <td>ceramic bowl with love heart design</td>\n",
       "      <td>36</td>\n",
       "      <td>2011-03-23 10:25:00</td>\n",
       "      <td>0.0</td>\n",
       "      <td>13239</td>\n",
       "      <td>United Kingdom</td>\n",
       "      <td>0.0</td>\n",
       "    </tr>\n",
       "    <tr>\n",
       "      <th>92875</th>\n",
       "      <td>139453</td>\n",
       "      <td>548318</td>\n",
       "      <td>22055</td>\n",
       "      <td>2011</td>\n",
       "      <td>3</td>\n",
       "      <td>3</td>\n",
       "      <td>12</td>\n",
       "      <td>mini cake stand  hanging strawbery</td>\n",
       "      <td>5</td>\n",
       "      <td>2011-03-30 12:45:00</td>\n",
       "      <td>0.0</td>\n",
       "      <td>13113</td>\n",
       "      <td>United Kingdom</td>\n",
       "      <td>0.0</td>\n",
       "    </tr>\n",
       "    <tr>\n",
       "      <th>97430</th>\n",
       "      <td>145208</td>\n",
       "      <td>548871</td>\n",
       "      <td>22162</td>\n",
       "      <td>2011</td>\n",
       "      <td>4</td>\n",
       "      <td>1</td>\n",
       "      <td>14</td>\n",
       "      <td>heart garland rustic padded</td>\n",
       "      <td>2</td>\n",
       "      <td>2011-04-04 14:42:00</td>\n",
       "      <td>0.0</td>\n",
       "      <td>14410</td>\n",
       "      <td>United Kingdom</td>\n",
       "      <td>0.0</td>\n",
       "    </tr>\n",
       "    <tr>\n",
       "      <th>107192</th>\n",
       "      <td>157042</td>\n",
       "      <td>550188</td>\n",
       "      <td>22636</td>\n",
       "      <td>2011</td>\n",
       "      <td>4</td>\n",
       "      <td>4</td>\n",
       "      <td>18</td>\n",
       "      <td>childs breakfast set circus parade</td>\n",
       "      <td>1</td>\n",
       "      <td>2011-04-14 18:57:00</td>\n",
       "      <td>0.0</td>\n",
       "      <td>12457</td>\n",
       "      <td>Switzerland</td>\n",
       "      <td>0.0</td>\n",
       "    </tr>\n",
       "    <tr>\n",
       "      <th>128641</th>\n",
       "      <td>187613</td>\n",
       "      <td>553000</td>\n",
       "      <td>47566</td>\n",
       "      <td>2011</td>\n",
       "      <td>5</td>\n",
       "      <td>4</td>\n",
       "      <td>15</td>\n",
       "      <td>party bunting</td>\n",
       "      <td>4</td>\n",
       "      <td>2011-05-12 15:21:00</td>\n",
       "      <td>0.0</td>\n",
       "      <td>17667</td>\n",
       "      <td>United Kingdom</td>\n",
       "      <td>0.0</td>\n",
       "    </tr>\n",
       "    <tr>\n",
       "      <th>137127</th>\n",
       "      <td>198383</td>\n",
       "      <td>554037</td>\n",
       "      <td>22619</td>\n",
       "      <td>2011</td>\n",
       "      <td>5</td>\n",
       "      <td>5</td>\n",
       "      <td>14</td>\n",
       "      <td>set of 6 soldier skittles</td>\n",
       "      <td>80</td>\n",
       "      <td>2011-05-20 14:13:00</td>\n",
       "      <td>0.0</td>\n",
       "      <td>12415</td>\n",
       "      <td>Australia</td>\n",
       "      <td>0.0</td>\n",
       "    </tr>\n",
       "    <tr>\n",
       "      <th>194648</th>\n",
       "      <td>279324</td>\n",
       "      <td>561284</td>\n",
       "      <td>22167</td>\n",
       "      <td>2011</td>\n",
       "      <td>7</td>\n",
       "      <td>2</td>\n",
       "      <td>12</td>\n",
       "      <td>oval wall mirror diamante</td>\n",
       "      <td>1</td>\n",
       "      <td>2011-07-26 12:24:00</td>\n",
       "      <td>0.0</td>\n",
       "      <td>16818</td>\n",
       "      <td>United Kingdom</td>\n",
       "      <td>0.0</td>\n",
       "    </tr>\n",
       "    <tr>\n",
       "      <th>197173</th>\n",
       "      <td>282912</td>\n",
       "      <td>561669</td>\n",
       "      <td>22960</td>\n",
       "      <td>2011</td>\n",
       "      <td>7</td>\n",
       "      <td>4</td>\n",
       "      <td>17</td>\n",
       "      <td>jam making set with jars</td>\n",
       "      <td>11</td>\n",
       "      <td>2011-07-28 17:09:00</td>\n",
       "      <td>0.0</td>\n",
       "      <td>12507</td>\n",
       "      <td>Spain</td>\n",
       "      <td>0.0</td>\n",
       "    </tr>\n",
       "    <tr>\n",
       "      <th>199711</th>\n",
       "      <td>285657</td>\n",
       "      <td>561916</td>\n",
       "      <td>M</td>\n",
       "      <td>2011</td>\n",
       "      <td>8</td>\n",
       "      <td>1</td>\n",
       "      <td>11</td>\n",
       "      <td>manual</td>\n",
       "      <td>1</td>\n",
       "      <td>2011-08-01 11:44:00</td>\n",
       "      <td>0.0</td>\n",
       "      <td>15581</td>\n",
       "      <td>United Kingdom</td>\n",
       "      <td>0.0</td>\n",
       "    </tr>\n",
       "    <tr>\n",
       "      <th>208950</th>\n",
       "      <td>298054</td>\n",
       "      <td>562973</td>\n",
       "      <td>23157</td>\n",
       "      <td>2011</td>\n",
       "      <td>8</td>\n",
       "      <td>4</td>\n",
       "      <td>11</td>\n",
       "      <td>set of 6 nativity magnets</td>\n",
       "      <td>240</td>\n",
       "      <td>2011-08-11 11:42:00</td>\n",
       "      <td>0.0</td>\n",
       "      <td>14911</td>\n",
       "      <td>EIRE</td>\n",
       "      <td>0.0</td>\n",
       "    </tr>\n",
       "    <tr>\n",
       "      <th>223931</th>\n",
       "      <td>314745</td>\n",
       "      <td>564651</td>\n",
       "      <td>23270</td>\n",
       "      <td>2011</td>\n",
       "      <td>8</td>\n",
       "      <td>5</td>\n",
       "      <td>14</td>\n",
       "      <td>set of 2 ceramic painted hearts</td>\n",
       "      <td>96</td>\n",
       "      <td>2011-08-26 14:19:00</td>\n",
       "      <td>0.0</td>\n",
       "      <td>14646</td>\n",
       "      <td>Netherlands</td>\n",
       "      <td>0.0</td>\n",
       "    </tr>\n",
       "    <tr>\n",
       "      <th>223932</th>\n",
       "      <td>314746</td>\n",
       "      <td>564651</td>\n",
       "      <td>23268</td>\n",
       "      <td>2011</td>\n",
       "      <td>8</td>\n",
       "      <td>5</td>\n",
       "      <td>14</td>\n",
       "      <td>set of 2 ceramic christmas reindeer</td>\n",
       "      <td>192</td>\n",
       "      <td>2011-08-26 14:19:00</td>\n",
       "      <td>0.0</td>\n",
       "      <td>14646</td>\n",
       "      <td>Netherlands</td>\n",
       "      <td>0.0</td>\n",
       "    </tr>\n",
       "    <tr>\n",
       "      <th>223933</th>\n",
       "      <td>314747</td>\n",
       "      <td>564651</td>\n",
       "      <td>22955</td>\n",
       "      <td>2011</td>\n",
       "      <td>8</td>\n",
       "      <td>5</td>\n",
       "      <td>14</td>\n",
       "      <td>36 foil star cake cases</td>\n",
       "      <td>144</td>\n",
       "      <td>2011-08-26 14:19:00</td>\n",
       "      <td>0.0</td>\n",
       "      <td>14646</td>\n",
       "      <td>Netherlands</td>\n",
       "      <td>0.0</td>\n",
       "    </tr>\n",
       "    <tr>\n",
       "      <th>223934</th>\n",
       "      <td>314748</td>\n",
       "      <td>564651</td>\n",
       "      <td>21786</td>\n",
       "      <td>2011</td>\n",
       "      <td>8</td>\n",
       "      <td>5</td>\n",
       "      <td>14</td>\n",
       "      <td>polkadot rain hat</td>\n",
       "      <td>144</td>\n",
       "      <td>2011-08-26 14:19:00</td>\n",
       "      <td>0.0</td>\n",
       "      <td>14646</td>\n",
       "      <td>Netherlands</td>\n",
       "      <td>0.0</td>\n",
       "    </tr>\n",
       "    <tr>\n",
       "      <th>256263</th>\n",
       "      <td>358655</td>\n",
       "      <td>568158</td>\n",
       "      <td>PADS</td>\n",
       "      <td>2011</td>\n",
       "      <td>9</td>\n",
       "      <td>7</td>\n",
       "      <td>12</td>\n",
       "      <td>pads to match all cushions</td>\n",
       "      <td>1</td>\n",
       "      <td>2011-09-25 12:22:00</td>\n",
       "      <td>0.0</td>\n",
       "      <td>16133</td>\n",
       "      <td>United Kingdom</td>\n",
       "      <td>0.0</td>\n",
       "    </tr>\n",
       "    <tr>\n",
       "      <th>259399</th>\n",
       "      <td>361825</td>\n",
       "      <td>568384</td>\n",
       "      <td>M</td>\n",
       "      <td>2011</td>\n",
       "      <td>9</td>\n",
       "      <td>2</td>\n",
       "      <td>9</td>\n",
       "      <td>manual</td>\n",
       "      <td>1</td>\n",
       "      <td>2011-09-27 09:46:00</td>\n",
       "      <td>0.0</td>\n",
       "      <td>12748</td>\n",
       "      <td>United Kingdom</td>\n",
       "      <td>0.0</td>\n",
       "    </tr>\n",
       "    <tr>\n",
       "      <th>273926</th>\n",
       "      <td>379913</td>\n",
       "      <td>569716</td>\n",
       "      <td>22778</td>\n",
       "      <td>2011</td>\n",
       "      <td>10</td>\n",
       "      <td>4</td>\n",
       "      <td>8</td>\n",
       "      <td>glass cloche small</td>\n",
       "      <td>2</td>\n",
       "      <td>2011-10-06 08:17:00</td>\n",
       "      <td>0.0</td>\n",
       "      <td>15804</td>\n",
       "      <td>United Kingdom</td>\n",
       "      <td>0.0</td>\n",
       "    </tr>\n",
       "    <tr>\n",
       "      <th>286507</th>\n",
       "      <td>395529</td>\n",
       "      <td>571035</td>\n",
       "      <td>M</td>\n",
       "      <td>2011</td>\n",
       "      <td>10</td>\n",
       "      <td>4</td>\n",
       "      <td>12</td>\n",
       "      <td>manual</td>\n",
       "      <td>1</td>\n",
       "      <td>2011-10-13 12:50:00</td>\n",
       "      <td>0.0</td>\n",
       "      <td>12446</td>\n",
       "      <td>RSA</td>\n",
       "      <td>0.0</td>\n",
       "    </tr>\n",
       "    <tr>\n",
       "      <th>307092</th>\n",
       "      <td>420404</td>\n",
       "      <td>572893</td>\n",
       "      <td>21208</td>\n",
       "      <td>2011</td>\n",
       "      <td>10</td>\n",
       "      <td>3</td>\n",
       "      <td>14</td>\n",
       "      <td>pastel colour honeycomb fan</td>\n",
       "      <td>5</td>\n",
       "      <td>2011-10-26 14:36:00</td>\n",
       "      <td>0.0</td>\n",
       "      <td>18059</td>\n",
       "      <td>United Kingdom</td>\n",
       "      <td>0.0</td>\n",
       "    </tr>\n",
       "    <tr>\n",
       "      <th>319882</th>\n",
       "      <td>436428</td>\n",
       "      <td>574138</td>\n",
       "      <td>23234</td>\n",
       "      <td>2011</td>\n",
       "      <td>11</td>\n",
       "      <td>4</td>\n",
       "      <td>11</td>\n",
       "      <td>biscuit tin vintage christmas</td>\n",
       "      <td>216</td>\n",
       "      <td>2011-11-03 11:26:00</td>\n",
       "      <td>0.0</td>\n",
       "      <td>12415</td>\n",
       "      <td>Australia</td>\n",
       "      <td>0.0</td>\n",
       "    </tr>\n",
       "    <tr>\n",
       "      <th>320049</th>\n",
       "      <td>436597</td>\n",
       "      <td>574175</td>\n",
       "      <td>22065</td>\n",
       "      <td>2011</td>\n",
       "      <td>11</td>\n",
       "      <td>4</td>\n",
       "      <td>11</td>\n",
       "      <td>christmas pudding trinket pot</td>\n",
       "      <td>12</td>\n",
       "      <td>2011-11-03 11:47:00</td>\n",
       "      <td>0.0</td>\n",
       "      <td>14110</td>\n",
       "      <td>United Kingdom</td>\n",
       "      <td>0.0</td>\n",
       "    </tr>\n",
       "    <tr>\n",
       "      <th>320407</th>\n",
       "      <td>436961</td>\n",
       "      <td>574252</td>\n",
       "      <td>M</td>\n",
       "      <td>2011</td>\n",
       "      <td>11</td>\n",
       "      <td>4</td>\n",
       "      <td>13</td>\n",
       "      <td>manual</td>\n",
       "      <td>1</td>\n",
       "      <td>2011-11-03 13:24:00</td>\n",
       "      <td>0.0</td>\n",
       "      <td>12437</td>\n",
       "      <td>France</td>\n",
       "      <td>0.0</td>\n",
       "    </tr>\n",
       "    <tr>\n",
       "      <th>322279</th>\n",
       "      <td>439361</td>\n",
       "      <td>574469</td>\n",
       "      <td>22385</td>\n",
       "      <td>2011</td>\n",
       "      <td>11</td>\n",
       "      <td>5</td>\n",
       "      <td>11</td>\n",
       "      <td>jumbo bag spaceboy design</td>\n",
       "      <td>12</td>\n",
       "      <td>2011-11-04 11:55:00</td>\n",
       "      <td>0.0</td>\n",
       "      <td>12431</td>\n",
       "      <td>Australia</td>\n",
       "      <td>0.0</td>\n",
       "    </tr>\n",
       "    <tr>\n",
       "      <th>328385</th>\n",
       "      <td>446125</td>\n",
       "      <td>574879</td>\n",
       "      <td>22625</td>\n",
       "      <td>2011</td>\n",
       "      <td>11</td>\n",
       "      <td>1</td>\n",
       "      <td>13</td>\n",
       "      <td>red kitchen scales</td>\n",
       "      <td>2</td>\n",
       "      <td>2011-11-07 13:22:00</td>\n",
       "      <td>0.0</td>\n",
       "      <td>13014</td>\n",
       "      <td>United Kingdom</td>\n",
       "      <td>0.0</td>\n",
       "    </tr>\n",
       "    <tr>\n",
       "      <th>329006</th>\n",
       "      <td>446793</td>\n",
       "      <td>574920</td>\n",
       "      <td>22899</td>\n",
       "      <td>2011</td>\n",
       "      <td>11</td>\n",
       "      <td>1</td>\n",
       "      <td>16</td>\n",
       "      <td>children's apron dolly girl</td>\n",
       "      <td>1</td>\n",
       "      <td>2011-11-07 16:34:00</td>\n",
       "      <td>0.0</td>\n",
       "      <td>13985</td>\n",
       "      <td>United Kingdom</td>\n",
       "      <td>0.0</td>\n",
       "    </tr>\n",
       "    <tr>\n",
       "      <th>329007</th>\n",
       "      <td>446794</td>\n",
       "      <td>574920</td>\n",
       "      <td>23480</td>\n",
       "      <td>2011</td>\n",
       "      <td>11</td>\n",
       "      <td>1</td>\n",
       "      <td>16</td>\n",
       "      <td>mini lights woodland mushrooms</td>\n",
       "      <td>1</td>\n",
       "      <td>2011-11-07 16:34:00</td>\n",
       "      <td>0.0</td>\n",
       "      <td>13985</td>\n",
       "      <td>United Kingdom</td>\n",
       "      <td>0.0</td>\n",
       "    </tr>\n",
       "    <tr>\n",
       "      <th>334242</th>\n",
       "      <td>454463</td>\n",
       "      <td>575579</td>\n",
       "      <td>22437</td>\n",
       "      <td>2011</td>\n",
       "      <td>11</td>\n",
       "      <td>4</td>\n",
       "      <td>11</td>\n",
       "      <td>set of 9 black skull balloons</td>\n",
       "      <td>20</td>\n",
       "      <td>2011-11-10 11:49:00</td>\n",
       "      <td>0.0</td>\n",
       "      <td>13081</td>\n",
       "      <td>United Kingdom</td>\n",
       "      <td>0.0</td>\n",
       "    </tr>\n",
       "    <tr>\n",
       "      <th>334243</th>\n",
       "      <td>454464</td>\n",
       "      <td>575579</td>\n",
       "      <td>22089</td>\n",
       "      <td>2011</td>\n",
       "      <td>11</td>\n",
       "      <td>4</td>\n",
       "      <td>11</td>\n",
       "      <td>paper bunting vintage paisley</td>\n",
       "      <td>24</td>\n",
       "      <td>2011-11-10 11:49:00</td>\n",
       "      <td>0.0</td>\n",
       "      <td>13081</td>\n",
       "      <td>United Kingdom</td>\n",
       "      <td>0.0</td>\n",
       "    </tr>\n",
       "    <tr>\n",
       "      <th>352746</th>\n",
       "      <td>479079</td>\n",
       "      <td>577129</td>\n",
       "      <td>22464</td>\n",
       "      <td>2011</td>\n",
       "      <td>11</td>\n",
       "      <td>4</td>\n",
       "      <td>19</td>\n",
       "      <td>hanging metal heart lantern</td>\n",
       "      <td>4</td>\n",
       "      <td>2011-11-17 19:52:00</td>\n",
       "      <td>0.0</td>\n",
       "      <td>15602</td>\n",
       "      <td>United Kingdom</td>\n",
       "      <td>0.0</td>\n",
       "    </tr>\n",
       "    <tr>\n",
       "      <th>353097</th>\n",
       "      <td>479546</td>\n",
       "      <td>577168</td>\n",
       "      <td>M</td>\n",
       "      <td>2011</td>\n",
       "      <td>11</td>\n",
       "      <td>5</td>\n",
       "      <td>10</td>\n",
       "      <td>manual</td>\n",
       "      <td>1</td>\n",
       "      <td>2011-11-18 10:42:00</td>\n",
       "      <td>0.0</td>\n",
       "      <td>12603</td>\n",
       "      <td>Germany</td>\n",
       "      <td>0.0</td>\n",
       "    </tr>\n",
       "    <tr>\n",
       "      <th>354170</th>\n",
       "      <td>480649</td>\n",
       "      <td>577314</td>\n",
       "      <td>23407</td>\n",
       "      <td>2011</td>\n",
       "      <td>11</td>\n",
       "      <td>5</td>\n",
       "      <td>13</td>\n",
       "      <td>set of 2 trays home sweet home</td>\n",
       "      <td>2</td>\n",
       "      <td>2011-11-18 13:23:00</td>\n",
       "      <td>0.0</td>\n",
       "      <td>12444</td>\n",
       "      <td>Norway</td>\n",
       "      <td>0.0</td>\n",
       "    </tr>\n",
       "    <tr>\n",
       "      <th>358629</th>\n",
       "      <td>485985</td>\n",
       "      <td>577696</td>\n",
       "      <td>M</td>\n",
       "      <td>2011</td>\n",
       "      <td>11</td>\n",
       "      <td>1</td>\n",
       "      <td>11</td>\n",
       "      <td>manual</td>\n",
       "      <td>1</td>\n",
       "      <td>2011-11-21 11:57:00</td>\n",
       "      <td>0.0</td>\n",
       "      <td>16406</td>\n",
       "      <td>United Kingdom</td>\n",
       "      <td>0.0</td>\n",
       "    </tr>\n",
       "    <tr>\n",
       "      <th>370473</th>\n",
       "      <td>502122</td>\n",
       "      <td>578841</td>\n",
       "      <td>84826</td>\n",
       "      <td>2011</td>\n",
       "      <td>11</td>\n",
       "      <td>5</td>\n",
       "      <td>15</td>\n",
       "      <td>asstd design 3d paper stickers</td>\n",
       "      <td>12540</td>\n",
       "      <td>2011-11-25 15:57:00</td>\n",
       "      <td>0.0</td>\n",
       "      <td>13256</td>\n",
       "      <td>United Kingdom</td>\n",
       "      <td>0.0</td>\n",
       "    </tr>\n",
       "  </tbody>\n",
       "</table>\n",
       "</div>"
      ],
      "text/plain": [
       "        Unnamed: 0  InvoiceNo StockCode  year  month  day  hour  \\\n",
       "6914          9302     537197     22841  2010     12    7    14   \n",
       "22539        33576     539263     22580  2010     12    4    14   \n",
       "25379        40089     539722     22423  2010     12    2    13   \n",
       "29080        47068     540372     22090  2011      1    4    16   \n",
       "29082        47070     540372     22553  2011      1    4    16   \n",
       "34494        56674     541109     22168  2011      1    4    15   \n",
       "53788        86789     543599    84535B  2011      2    4    13   \n",
       "85671       130188     547417     22062  2011      3    3    10   \n",
       "92875       139453     548318     22055  2011      3    3    12   \n",
       "97430       145208     548871     22162  2011      4    1    14   \n",
       "107192      157042     550188     22636  2011      4    4    18   \n",
       "128641      187613     553000     47566  2011      5    4    15   \n",
       "137127      198383     554037     22619  2011      5    5    14   \n",
       "194648      279324     561284     22167  2011      7    2    12   \n",
       "197173      282912     561669     22960  2011      7    4    17   \n",
       "199711      285657     561916         M  2011      8    1    11   \n",
       "208950      298054     562973     23157  2011      8    4    11   \n",
       "223931      314745     564651     23270  2011      8    5    14   \n",
       "223932      314746     564651     23268  2011      8    5    14   \n",
       "223933      314747     564651     22955  2011      8    5    14   \n",
       "223934      314748     564651     21786  2011      8    5    14   \n",
       "256263      358655     568158      PADS  2011      9    7    12   \n",
       "259399      361825     568384         M  2011      9    2     9   \n",
       "273926      379913     569716     22778  2011     10    4     8   \n",
       "286507      395529     571035         M  2011     10    4    12   \n",
       "307092      420404     572893     21208  2011     10    3    14   \n",
       "319882      436428     574138     23234  2011     11    4    11   \n",
       "320049      436597     574175     22065  2011     11    4    11   \n",
       "320407      436961     574252         M  2011     11    4    13   \n",
       "322279      439361     574469     22385  2011     11    5    11   \n",
       "328385      446125     574879     22625  2011     11    1    13   \n",
       "329006      446793     574920     22899  2011     11    1    16   \n",
       "329007      446794     574920     23480  2011     11    1    16   \n",
       "334242      454463     575579     22437  2011     11    4    11   \n",
       "334243      454464     575579     22089  2011     11    4    11   \n",
       "352746      479079     577129     22464  2011     11    4    19   \n",
       "353097      479546     577168         M  2011     11    5    10   \n",
       "354170      480649     577314     23407  2011     11    5    13   \n",
       "358629      485985     577696         M  2011     11    1    11   \n",
       "370473      502122     578841     84826  2011     11    5    15   \n",
       "\n",
       "                                Description  Quantity          InvoiceDate  \\\n",
       "6914           round cake tin vintage green         1  2010-12-05 14:02:00   \n",
       "22539          advent calendar gingham sack         4  2010-12-16 14:36:00   \n",
       "25379              regency cakestand 3 tier        10  2010-12-21 13:45:00   \n",
       "29080               paper bunting retrospot        24  2011-01-06 16:41:00   \n",
       "29082                plasters in tin skulls        24  2011-01-06 16:41:00   \n",
       "34494         organiser wood antique white          1  2011-01-13 15:10:00   \n",
       "53788          fairy cakes notebook a6 size        16  2011-02-10 13:08:00   \n",
       "85671   ceramic bowl with love heart design        36  2011-03-23 10:25:00   \n",
       "92875    mini cake stand  hanging strawbery         5  2011-03-30 12:45:00   \n",
       "97430           heart garland rustic padded         2  2011-04-04 14:42:00   \n",
       "107192   childs breakfast set circus parade         1  2011-04-14 18:57:00   \n",
       "128641                        party bunting         4  2011-05-12 15:21:00   \n",
       "137127            set of 6 soldier skittles        80  2011-05-20 14:13:00   \n",
       "194648           oval wall mirror diamante          1  2011-07-26 12:24:00   \n",
       "197173             jam making set with jars        11  2011-07-28 17:09:00   \n",
       "199711                               manual         1  2011-08-01 11:44:00   \n",
       "208950           set of 6 nativity magnets        240  2011-08-11 11:42:00   \n",
       "223931     set of 2 ceramic painted hearts         96  2011-08-26 14:19:00   \n",
       "223932  set of 2 ceramic christmas reindeer       192  2011-08-26 14:19:00   \n",
       "223933             36 foil star cake cases        144  2011-08-26 14:19:00   \n",
       "223934                   polkadot rain hat        144  2011-08-26 14:19:00   \n",
       "256263           pads to match all cushions         1  2011-09-25 12:22:00   \n",
       "259399                               manual         1  2011-09-27 09:46:00   \n",
       "273926                   glass cloche small         2  2011-10-06 08:17:00   \n",
       "286507                               manual         1  2011-10-13 12:50:00   \n",
       "307092          pastel colour honeycomb fan         5  2011-10-26 14:36:00   \n",
       "319882        biscuit tin vintage christmas       216  2011-11-03 11:26:00   \n",
       "320049       christmas pudding trinket pot         12  2011-11-03 11:47:00   \n",
       "320407                               manual         1  2011-11-03 13:24:00   \n",
       "322279            jumbo bag spaceboy design        12  2011-11-04 11:55:00   \n",
       "328385                   red kitchen scales         2  2011-11-07 13:22:00   \n",
       "329006         children's apron dolly girl          1  2011-11-07 16:34:00   \n",
       "329007       mini lights woodland mushrooms         1  2011-11-07 16:34:00   \n",
       "334242        set of 9 black skull balloons        20  2011-11-10 11:49:00   \n",
       "334243        paper bunting vintage paisley        24  2011-11-10 11:49:00   \n",
       "352746          hanging metal heart lantern         4  2011-11-17 19:52:00   \n",
       "353097                               manual         1  2011-11-18 10:42:00   \n",
       "354170       set of 2 trays home sweet home         2  2011-11-18 13:23:00   \n",
       "358629                               manual         1  2011-11-21 11:57:00   \n",
       "370473       asstd design 3d paper stickers     12540  2011-11-25 15:57:00   \n",
       "\n",
       "        UnitPrice  CustomerID         Country  amount_spent  \n",
       "6914          0.0       12647         Germany           0.0  \n",
       "22539         0.0       16560  United Kingdom           0.0  \n",
       "25379         0.0       14911            EIRE           0.0  \n",
       "29080         0.0       13081  United Kingdom           0.0  \n",
       "29082         0.0       13081  United Kingdom           0.0  \n",
       "34494         0.0       15107  United Kingdom           0.0  \n",
       "53788         0.0       17560  United Kingdom           0.0  \n",
       "85671         0.0       13239  United Kingdom           0.0  \n",
       "92875         0.0       13113  United Kingdom           0.0  \n",
       "97430         0.0       14410  United Kingdom           0.0  \n",
       "107192        0.0       12457     Switzerland           0.0  \n",
       "128641        0.0       17667  United Kingdom           0.0  \n",
       "137127        0.0       12415       Australia           0.0  \n",
       "194648        0.0       16818  United Kingdom           0.0  \n",
       "197173        0.0       12507           Spain           0.0  \n",
       "199711        0.0       15581  United Kingdom           0.0  \n",
       "208950        0.0       14911            EIRE           0.0  \n",
       "223931        0.0       14646     Netherlands           0.0  \n",
       "223932        0.0       14646     Netherlands           0.0  \n",
       "223933        0.0       14646     Netherlands           0.0  \n",
       "223934        0.0       14646     Netherlands           0.0  \n",
       "256263        0.0       16133  United Kingdom           0.0  \n",
       "259399        0.0       12748  United Kingdom           0.0  \n",
       "273926        0.0       15804  United Kingdom           0.0  \n",
       "286507        0.0       12446             RSA           0.0  \n",
       "307092        0.0       18059  United Kingdom           0.0  \n",
       "319882        0.0       12415       Australia           0.0  \n",
       "320049        0.0       14110  United Kingdom           0.0  \n",
       "320407        0.0       12437          France           0.0  \n",
       "322279        0.0       12431       Australia           0.0  \n",
       "328385        0.0       13014  United Kingdom           0.0  \n",
       "329006        0.0       13985  United Kingdom           0.0  \n",
       "329007        0.0       13985  United Kingdom           0.0  \n",
       "334242        0.0       13081  United Kingdom           0.0  \n",
       "334243        0.0       13081  United Kingdom           0.0  \n",
       "352746        0.0       15602  United Kingdom           0.0  \n",
       "353097        0.0       12603         Germany           0.0  \n",
       "354170        0.0       12444          Norway           0.0  \n",
       "358629        0.0       16406  United Kingdom           0.0  \n",
       "370473        0.0       13256  United Kingdom           0.0  "
      ]
     },
     "execution_count": 277,
     "metadata": {},
     "output_type": "execute_result"
    }
   ],
   "source": [
    "# your answer here\n",
    "orders[orders['UnitPrice']==0]"
   ]
  },
  {
   "cell_type": "markdown",
   "metadata": {},
   "source": [
    "#### Select all orders that are 'lunch bag'\n",
    "#### Hint: Use string functions"
   ]
  },
  {
   "cell_type": "code",
   "execution_count": 284,
   "metadata": {
    "collapsed": true
   },
   "outputs": [
    {
     "data": {
      "text/html": [
       "<div>\n",
       "<style scoped>\n",
       "    .dataframe tbody tr th:only-of-type {\n",
       "        vertical-align: middle;\n",
       "    }\n",
       "\n",
       "    .dataframe tbody tr th {\n",
       "        vertical-align: top;\n",
       "    }\n",
       "\n",
       "    .dataframe thead th {\n",
       "        text-align: right;\n",
       "    }\n",
       "</style>\n",
       "<table border=\"1\" class=\"dataframe\">\n",
       "  <thead>\n",
       "    <tr style=\"text-align: right;\">\n",
       "      <th></th>\n",
       "      <th>Unnamed: 0</th>\n",
       "      <th>InvoiceNo</th>\n",
       "      <th>StockCode</th>\n",
       "      <th>year</th>\n",
       "      <th>month</th>\n",
       "      <th>day</th>\n",
       "      <th>hour</th>\n",
       "      <th>Description</th>\n",
       "      <th>Quantity</th>\n",
       "      <th>InvoiceDate</th>\n",
       "      <th>UnitPrice</th>\n",
       "      <th>CustomerID</th>\n",
       "      <th>Country</th>\n",
       "      <th>amount_spent</th>\n",
       "    </tr>\n",
       "  </thead>\n",
       "  <tbody>\n",
       "    <tr>\n",
       "      <th>93</th>\n",
       "      <td>93</td>\n",
       "      <td>536378</td>\n",
       "      <td>20725</td>\n",
       "      <td>2010</td>\n",
       "      <td>12</td>\n",
       "      <td>3</td>\n",
       "      <td>9</td>\n",
       "      <td>lunch bag red retrospot</td>\n",
       "      <td>10</td>\n",
       "      <td>2010-12-01 09:37:00</td>\n",
       "      <td>1.65</td>\n",
       "      <td>14688</td>\n",
       "      <td>United Kingdom</td>\n",
       "      <td>16.50</td>\n",
       "    </tr>\n",
       "    <tr>\n",
       "      <th>172</th>\n",
       "      <td>174</td>\n",
       "      <td>536385</td>\n",
       "      <td>22662</td>\n",
       "      <td>2010</td>\n",
       "      <td>12</td>\n",
       "      <td>3</td>\n",
       "      <td>9</td>\n",
       "      <td>lunch bag dolly girl design</td>\n",
       "      <td>10</td>\n",
       "      <td>2010-12-01 09:56:00</td>\n",
       "      <td>1.65</td>\n",
       "      <td>17420</td>\n",
       "      <td>United Kingdom</td>\n",
       "      <td>16.50</td>\n",
       "    </tr>\n",
       "    <tr>\n",
       "      <th>354</th>\n",
       "      <td>363</td>\n",
       "      <td>536401</td>\n",
       "      <td>22662</td>\n",
       "      <td>2010</td>\n",
       "      <td>12</td>\n",
       "      <td>3</td>\n",
       "      <td>11</td>\n",
       "      <td>lunch bag dolly girl design</td>\n",
       "      <td>1</td>\n",
       "      <td>2010-12-01 11:21:00</td>\n",
       "      <td>1.65</td>\n",
       "      <td>15862</td>\n",
       "      <td>United Kingdom</td>\n",
       "      <td>1.65</td>\n",
       "    </tr>\n",
       "    <tr>\n",
       "      <th>359</th>\n",
       "      <td>368</td>\n",
       "      <td>536401</td>\n",
       "      <td>20725</td>\n",
       "      <td>2010</td>\n",
       "      <td>12</td>\n",
       "      <td>3</td>\n",
       "      <td>11</td>\n",
       "      <td>lunch bag red retrospot</td>\n",
       "      <td>1</td>\n",
       "      <td>2010-12-01 11:21:00</td>\n",
       "      <td>1.65</td>\n",
       "      <td>15862</td>\n",
       "      <td>United Kingdom</td>\n",
       "      <td>1.65</td>\n",
       "    </tr>\n",
       "    <tr>\n",
       "      <th>360</th>\n",
       "      <td>369</td>\n",
       "      <td>536401</td>\n",
       "      <td>22382</td>\n",
       "      <td>2010</td>\n",
       "      <td>12</td>\n",
       "      <td>3</td>\n",
       "      <td>11</td>\n",
       "      <td>lunch bag spaceboy design</td>\n",
       "      <td>2</td>\n",
       "      <td>2010-12-01 11:21:00</td>\n",
       "      <td>1.65</td>\n",
       "      <td>15862</td>\n",
       "      <td>United Kingdom</td>\n",
       "      <td>3.30</td>\n",
       "    </tr>\n",
       "    <tr>\n",
       "      <th>...</th>\n",
       "      <td>...</td>\n",
       "      <td>...</td>\n",
       "      <td>...</td>\n",
       "      <td>...</td>\n",
       "      <td>...</td>\n",
       "      <td>...</td>\n",
       "      <td>...</td>\n",
       "      <td>...</td>\n",
       "      <td>...</td>\n",
       "      <td>...</td>\n",
       "      <td>...</td>\n",
       "      <td>...</td>\n",
       "      <td>...</td>\n",
       "      <td>...</td>\n",
       "    </tr>\n",
       "    <tr>\n",
       "      <th>397465</th>\n",
       "      <td>540436</td>\n",
       "      <td>581486</td>\n",
       "      <td>23207</td>\n",
       "      <td>2011</td>\n",
       "      <td>12</td>\n",
       "      <td>5</td>\n",
       "      <td>9</td>\n",
       "      <td>lunch bag alphabet design</td>\n",
       "      <td>10</td>\n",
       "      <td>2011-12-09 09:38:00</td>\n",
       "      <td>1.65</td>\n",
       "      <td>17001</td>\n",
       "      <td>United Kingdom</td>\n",
       "      <td>16.50</td>\n",
       "    </tr>\n",
       "    <tr>\n",
       "      <th>397713</th>\n",
       "      <td>541695</td>\n",
       "      <td>581538</td>\n",
       "      <td>20727</td>\n",
       "      <td>2011</td>\n",
       "      <td>12</td>\n",
       "      <td>5</td>\n",
       "      <td>11</td>\n",
       "      <td>lunch bag  black skull.</td>\n",
       "      <td>1</td>\n",
       "      <td>2011-12-09 11:34:00</td>\n",
       "      <td>1.65</td>\n",
       "      <td>14446</td>\n",
       "      <td>United Kingdom</td>\n",
       "      <td>1.65</td>\n",
       "    </tr>\n",
       "    <tr>\n",
       "      <th>397714</th>\n",
       "      <td>541696</td>\n",
       "      <td>581538</td>\n",
       "      <td>20725</td>\n",
       "      <td>2011</td>\n",
       "      <td>12</td>\n",
       "      <td>5</td>\n",
       "      <td>11</td>\n",
       "      <td>lunch bag red retrospot</td>\n",
       "      <td>1</td>\n",
       "      <td>2011-12-09 11:34:00</td>\n",
       "      <td>1.65</td>\n",
       "      <td>14446</td>\n",
       "      <td>United Kingdom</td>\n",
       "      <td>1.65</td>\n",
       "    </tr>\n",
       "    <tr>\n",
       "      <th>397877</th>\n",
       "      <td>541862</td>\n",
       "      <td>581581</td>\n",
       "      <td>23681</td>\n",
       "      <td>2011</td>\n",
       "      <td>12</td>\n",
       "      <td>5</td>\n",
       "      <td>12</td>\n",
       "      <td>lunch bag red vintage doily</td>\n",
       "      <td>10</td>\n",
       "      <td>2011-12-09 12:20:00</td>\n",
       "      <td>1.65</td>\n",
       "      <td>17581</td>\n",
       "      <td>United Kingdom</td>\n",
       "      <td>16.50</td>\n",
       "    </tr>\n",
       "    <tr>\n",
       "      <th>397880</th>\n",
       "      <td>541865</td>\n",
       "      <td>581583</td>\n",
       "      <td>20725</td>\n",
       "      <td>2011</td>\n",
       "      <td>12</td>\n",
       "      <td>5</td>\n",
       "      <td>12</td>\n",
       "      <td>lunch bag red retrospot</td>\n",
       "      <td>40</td>\n",
       "      <td>2011-12-09 12:23:00</td>\n",
       "      <td>1.45</td>\n",
       "      <td>13777</td>\n",
       "      <td>United Kingdom</td>\n",
       "      <td>58.00</td>\n",
       "    </tr>\n",
       "  </tbody>\n",
       "</table>\n",
       "<p>11556 rows × 14 columns</p>\n",
       "</div>"
      ],
      "text/plain": [
       "        Unnamed: 0  InvoiceNo StockCode  year  month  day  hour  \\\n",
       "93              93     536378     20725  2010     12    3     9   \n",
       "172            174     536385     22662  2010     12    3     9   \n",
       "354            363     536401     22662  2010     12    3    11   \n",
       "359            368     536401     20725  2010     12    3    11   \n",
       "360            369     536401     22382  2010     12    3    11   \n",
       "...            ...        ...       ...   ...    ...  ...   ...   \n",
       "397465      540436     581486     23207  2011     12    5     9   \n",
       "397713      541695     581538     20727  2011     12    5    11   \n",
       "397714      541696     581538     20725  2011     12    5    11   \n",
       "397877      541862     581581     23681  2011     12    5    12   \n",
       "397880      541865     581583     20725  2011     12    5    12   \n",
       "\n",
       "                        Description  Quantity          InvoiceDate  UnitPrice  \\\n",
       "93          lunch bag red retrospot        10  2010-12-01 09:37:00       1.65   \n",
       "172     lunch bag dolly girl design        10  2010-12-01 09:56:00       1.65   \n",
       "354     lunch bag dolly girl design         1  2010-12-01 11:21:00       1.65   \n",
       "359         lunch bag red retrospot         1  2010-12-01 11:21:00       1.65   \n",
       "360      lunch bag spaceboy design          2  2010-12-01 11:21:00       1.65   \n",
       "...                             ...       ...                  ...        ...   \n",
       "397465    lunch bag alphabet design        10  2011-12-09 09:38:00       1.65   \n",
       "397713      lunch bag  black skull.         1  2011-12-09 11:34:00       1.65   \n",
       "397714      lunch bag red retrospot         1  2011-12-09 11:34:00       1.65   \n",
       "397877  lunch bag red vintage doily        10  2011-12-09 12:20:00       1.65   \n",
       "397880      lunch bag red retrospot        40  2011-12-09 12:23:00       1.45   \n",
       "\n",
       "        CustomerID         Country  amount_spent  \n",
       "93           14688  United Kingdom         16.50  \n",
       "172          17420  United Kingdom         16.50  \n",
       "354          15862  United Kingdom          1.65  \n",
       "359          15862  United Kingdom          1.65  \n",
       "360          15862  United Kingdom          3.30  \n",
       "...            ...             ...           ...  \n",
       "397465       17001  United Kingdom         16.50  \n",
       "397713       14446  United Kingdom          1.65  \n",
       "397714       14446  United Kingdom          1.65  \n",
       "397877       17581  United Kingdom         16.50  \n",
       "397880       13777  United Kingdom         58.00  \n",
       "\n",
       "[11556 rows x 14 columns]"
      ]
     },
     "execution_count": 284,
     "metadata": {},
     "output_type": "execute_result"
    }
   ],
   "source": [
    "# your answer here\n",
    "orders[orders['Description'].str.match('lunch bag')]"
   ]
  },
  {
   "cell_type": "markdown",
   "metadata": {},
   "source": [
    "#### Select all orders that are made in 2011 and are 'lunch bag'  "
   ]
  },
  {
   "cell_type": "code",
   "execution_count": 302,
   "metadata": {
    "collapsed": true
   },
   "outputs": [
    {
     "name": "stderr",
     "output_type": "stream",
     "text": [
      "C:\\Temp\\ipykernel_16100\\607040924.py:2: UserWarning: Boolean Series key will be reindexed to match DataFrame index.\n",
      "  orders[orders['Description'].str.match('lunch bag')] [orders['year']==2011]\n"
     ]
    },
    {
     "data": {
      "text/html": [
       "<div>\n",
       "<style scoped>\n",
       "    .dataframe tbody tr th:only-of-type {\n",
       "        vertical-align: middle;\n",
       "    }\n",
       "\n",
       "    .dataframe tbody tr th {\n",
       "        vertical-align: top;\n",
       "    }\n",
       "\n",
       "    .dataframe thead th {\n",
       "        text-align: right;\n",
       "    }\n",
       "</style>\n",
       "<table border=\"1\" class=\"dataframe\">\n",
       "  <thead>\n",
       "    <tr style=\"text-align: right;\">\n",
       "      <th></th>\n",
       "      <th>Unnamed: 0</th>\n",
       "      <th>InvoiceNo</th>\n",
       "      <th>StockCode</th>\n",
       "      <th>year</th>\n",
       "      <th>month</th>\n",
       "      <th>day</th>\n",
       "      <th>hour</th>\n",
       "      <th>Description</th>\n",
       "      <th>Quantity</th>\n",
       "      <th>InvoiceDate</th>\n",
       "      <th>UnitPrice</th>\n",
       "      <th>CustomerID</th>\n",
       "      <th>Country</th>\n",
       "      <th>amount_spent</th>\n",
       "    </tr>\n",
       "  </thead>\n",
       "  <tbody>\n",
       "    <tr>\n",
       "      <th>26340</th>\n",
       "      <td>42678</td>\n",
       "      <td>540015</td>\n",
       "      <td>20725</td>\n",
       "      <td>2011</td>\n",
       "      <td>1</td>\n",
       "      <td>2</td>\n",
       "      <td>11</td>\n",
       "      <td>lunch bag red retrospot</td>\n",
       "      <td>10</td>\n",
       "      <td>2011-01-04 11:40:00</td>\n",
       "      <td>1.65</td>\n",
       "      <td>13319</td>\n",
       "      <td>United Kingdom</td>\n",
       "      <td>16.50</td>\n",
       "    </tr>\n",
       "    <tr>\n",
       "      <th>26341</th>\n",
       "      <td>42679</td>\n",
       "      <td>540015</td>\n",
       "      <td>20726</td>\n",
       "      <td>2011</td>\n",
       "      <td>1</td>\n",
       "      <td>2</td>\n",
       "      <td>11</td>\n",
       "      <td>lunch bag woodland</td>\n",
       "      <td>10</td>\n",
       "      <td>2011-01-04 11:40:00</td>\n",
       "      <td>1.65</td>\n",
       "      <td>13319</td>\n",
       "      <td>United Kingdom</td>\n",
       "      <td>16.50</td>\n",
       "    </tr>\n",
       "    <tr>\n",
       "      <th>26512</th>\n",
       "      <td>42851</td>\n",
       "      <td>540023</td>\n",
       "      <td>22382</td>\n",
       "      <td>2011</td>\n",
       "      <td>1</td>\n",
       "      <td>2</td>\n",
       "      <td>12</td>\n",
       "      <td>lunch bag spaceboy design</td>\n",
       "      <td>2</td>\n",
       "      <td>2011-01-04 12:58:00</td>\n",
       "      <td>1.65</td>\n",
       "      <td>15039</td>\n",
       "      <td>United Kingdom</td>\n",
       "      <td>3.30</td>\n",
       "    </tr>\n",
       "    <tr>\n",
       "      <th>26513</th>\n",
       "      <td>42852</td>\n",
       "      <td>540023</td>\n",
       "      <td>20726</td>\n",
       "      <td>2011</td>\n",
       "      <td>1</td>\n",
       "      <td>2</td>\n",
       "      <td>12</td>\n",
       "      <td>lunch bag woodland</td>\n",
       "      <td>1</td>\n",
       "      <td>2011-01-04 12:58:00</td>\n",
       "      <td>1.65</td>\n",
       "      <td>15039</td>\n",
       "      <td>United Kingdom</td>\n",
       "      <td>1.65</td>\n",
       "    </tr>\n",
       "    <tr>\n",
       "      <th>26860</th>\n",
       "      <td>43616</td>\n",
       "      <td>540098</td>\n",
       "      <td>22384</td>\n",
       "      <td>2011</td>\n",
       "      <td>1</td>\n",
       "      <td>2</td>\n",
       "      <td>15</td>\n",
       "      <td>lunch bag pink polkadot</td>\n",
       "      <td>1</td>\n",
       "      <td>2011-01-04 15:50:00</td>\n",
       "      <td>1.65</td>\n",
       "      <td>16241</td>\n",
       "      <td>United Kingdom</td>\n",
       "      <td>1.65</td>\n",
       "    </tr>\n",
       "    <tr>\n",
       "      <th>...</th>\n",
       "      <td>...</td>\n",
       "      <td>...</td>\n",
       "      <td>...</td>\n",
       "      <td>...</td>\n",
       "      <td>...</td>\n",
       "      <td>...</td>\n",
       "      <td>...</td>\n",
       "      <td>...</td>\n",
       "      <td>...</td>\n",
       "      <td>...</td>\n",
       "      <td>...</td>\n",
       "      <td>...</td>\n",
       "      <td>...</td>\n",
       "      <td>...</td>\n",
       "    </tr>\n",
       "    <tr>\n",
       "      <th>397465</th>\n",
       "      <td>540436</td>\n",
       "      <td>581486</td>\n",
       "      <td>23207</td>\n",
       "      <td>2011</td>\n",
       "      <td>12</td>\n",
       "      <td>5</td>\n",
       "      <td>9</td>\n",
       "      <td>lunch bag alphabet design</td>\n",
       "      <td>10</td>\n",
       "      <td>2011-12-09 09:38:00</td>\n",
       "      <td>1.65</td>\n",
       "      <td>17001</td>\n",
       "      <td>United Kingdom</td>\n",
       "      <td>16.50</td>\n",
       "    </tr>\n",
       "    <tr>\n",
       "      <th>397713</th>\n",
       "      <td>541695</td>\n",
       "      <td>581538</td>\n",
       "      <td>20727</td>\n",
       "      <td>2011</td>\n",
       "      <td>12</td>\n",
       "      <td>5</td>\n",
       "      <td>11</td>\n",
       "      <td>lunch bag  black skull.</td>\n",
       "      <td>1</td>\n",
       "      <td>2011-12-09 11:34:00</td>\n",
       "      <td>1.65</td>\n",
       "      <td>14446</td>\n",
       "      <td>United Kingdom</td>\n",
       "      <td>1.65</td>\n",
       "    </tr>\n",
       "    <tr>\n",
       "      <th>397714</th>\n",
       "      <td>541696</td>\n",
       "      <td>581538</td>\n",
       "      <td>20725</td>\n",
       "      <td>2011</td>\n",
       "      <td>12</td>\n",
       "      <td>5</td>\n",
       "      <td>11</td>\n",
       "      <td>lunch bag red retrospot</td>\n",
       "      <td>1</td>\n",
       "      <td>2011-12-09 11:34:00</td>\n",
       "      <td>1.65</td>\n",
       "      <td>14446</td>\n",
       "      <td>United Kingdom</td>\n",
       "      <td>1.65</td>\n",
       "    </tr>\n",
       "    <tr>\n",
       "      <th>397877</th>\n",
       "      <td>541862</td>\n",
       "      <td>581581</td>\n",
       "      <td>23681</td>\n",
       "      <td>2011</td>\n",
       "      <td>12</td>\n",
       "      <td>5</td>\n",
       "      <td>12</td>\n",
       "      <td>lunch bag red vintage doily</td>\n",
       "      <td>10</td>\n",
       "      <td>2011-12-09 12:20:00</td>\n",
       "      <td>1.65</td>\n",
       "      <td>17581</td>\n",
       "      <td>United Kingdom</td>\n",
       "      <td>16.50</td>\n",
       "    </tr>\n",
       "    <tr>\n",
       "      <th>397880</th>\n",
       "      <td>541865</td>\n",
       "      <td>581583</td>\n",
       "      <td>20725</td>\n",
       "      <td>2011</td>\n",
       "      <td>12</td>\n",
       "      <td>5</td>\n",
       "      <td>12</td>\n",
       "      <td>lunch bag red retrospot</td>\n",
       "      <td>40</td>\n",
       "      <td>2011-12-09 12:23:00</td>\n",
       "      <td>1.45</td>\n",
       "      <td>13777</td>\n",
       "      <td>United Kingdom</td>\n",
       "      <td>58.00</td>\n",
       "    </tr>\n",
       "  </tbody>\n",
       "</table>\n",
       "<p>11234 rows × 14 columns</p>\n",
       "</div>"
      ],
      "text/plain": [
       "        Unnamed: 0  InvoiceNo StockCode  year  month  day  hour  \\\n",
       "26340        42678     540015     20725  2011      1    2    11   \n",
       "26341        42679     540015     20726  2011      1    2    11   \n",
       "26512        42851     540023     22382  2011      1    2    12   \n",
       "26513        42852     540023     20726  2011      1    2    12   \n",
       "26860        43616     540098     22384  2011      1    2    15   \n",
       "...            ...        ...       ...   ...    ...  ...   ...   \n",
       "397465      540436     581486     23207  2011     12    5     9   \n",
       "397713      541695     581538     20727  2011     12    5    11   \n",
       "397714      541696     581538     20725  2011     12    5    11   \n",
       "397877      541862     581581     23681  2011     12    5    12   \n",
       "397880      541865     581583     20725  2011     12    5    12   \n",
       "\n",
       "                        Description  Quantity          InvoiceDate  UnitPrice  \\\n",
       "26340       lunch bag red retrospot        10  2011-01-04 11:40:00       1.65   \n",
       "26341            lunch bag woodland        10  2011-01-04 11:40:00       1.65   \n",
       "26512    lunch bag spaceboy design          2  2011-01-04 12:58:00       1.65   \n",
       "26513            lunch bag woodland         1  2011-01-04 12:58:00       1.65   \n",
       "26860       lunch bag pink polkadot         1  2011-01-04 15:50:00       1.65   \n",
       "...                             ...       ...                  ...        ...   \n",
       "397465    lunch bag alphabet design        10  2011-12-09 09:38:00       1.65   \n",
       "397713      lunch bag  black skull.         1  2011-12-09 11:34:00       1.65   \n",
       "397714      lunch bag red retrospot         1  2011-12-09 11:34:00       1.65   \n",
       "397877  lunch bag red vintage doily        10  2011-12-09 12:20:00       1.65   \n",
       "397880      lunch bag red retrospot        40  2011-12-09 12:23:00       1.45   \n",
       "\n",
       "        CustomerID         Country  amount_spent  \n",
       "26340        13319  United Kingdom         16.50  \n",
       "26341        13319  United Kingdom         16.50  \n",
       "26512        15039  United Kingdom          3.30  \n",
       "26513        15039  United Kingdom          1.65  \n",
       "26860        16241  United Kingdom          1.65  \n",
       "...            ...             ...           ...  \n",
       "397465       17001  United Kingdom         16.50  \n",
       "397713       14446  United Kingdom          1.65  \n",
       "397714       14446  United Kingdom          1.65  \n",
       "397877       17581  United Kingdom         16.50  \n",
       "397880       13777  United Kingdom         58.00  \n",
       "\n",
       "[11234 rows x 14 columns]"
      ]
     },
     "execution_count": 302,
     "metadata": {},
     "output_type": "execute_result"
    }
   ],
   "source": [
    "# your answer here\n",
    "orders[orders['Description'].str.match('lunch bag')] [orders['year']==2011]"
   ]
  },
  {
   "cell_type": "markdown",
   "metadata": {},
   "source": [
    "#### Show the frequency distribution of the amount spent in Spain."
   ]
  },
  {
   "cell_type": "code",
   "execution_count": 363,
   "metadata": {
    "collapsed": true
   },
   "outputs": [],
   "source": [
    "# your answer here\n",
    "frenquecy=orders[orders['Country']=='Spain'].groupby(orders.Country).UnitPrice.value_counts()"
   ]
  },
  {
   "cell_type": "code",
   "execution_count": 364,
   "metadata": {},
   "outputs": [
    {
     "data": {
      "text/plain": [
       "Country  UnitPrice\n",
       "Spain    1.25         276\n",
       "         2.95         197\n",
       "         1.65         187\n",
       "         0.85         167\n",
       "         1.45         147\n",
       "                     ... \n",
       "         11.95          1\n",
       "         16.65          1\n",
       "         18.95          1\n",
       "         41.75          1\n",
       "         65.00          1\n",
       "Name: UnitPrice, Length: 78, dtype: int64"
      ]
     },
     "execution_count": 364,
     "metadata": {},
     "output_type": "execute_result"
    }
   ],
   "source": [
    "frenquecy"
   ]
  },
  {
   "cell_type": "markdown",
   "metadata": {},
   "source": [
    "#### Select all orders made in the month of August"
   ]
  },
  {
   "cell_type": "code",
   "execution_count": 349,
   "metadata": {
    "collapsed": true
   },
   "outputs": [
    {
     "data": {
      "text/html": [
       "<div>\n",
       "<style scoped>\n",
       "    .dataframe tbody tr th:only-of-type {\n",
       "        vertical-align: middle;\n",
       "    }\n",
       "\n",
       "    .dataframe tbody tr th {\n",
       "        vertical-align: top;\n",
       "    }\n",
       "\n",
       "    .dataframe thead th {\n",
       "        text-align: right;\n",
       "    }\n",
       "</style>\n",
       "<table border=\"1\" class=\"dataframe\">\n",
       "  <thead>\n",
       "    <tr style=\"text-align: right;\">\n",
       "      <th></th>\n",
       "      <th>Unnamed: 0</th>\n",
       "      <th>InvoiceNo</th>\n",
       "      <th>StockCode</th>\n",
       "      <th>year</th>\n",
       "      <th>month</th>\n",
       "      <th>day</th>\n",
       "      <th>hour</th>\n",
       "      <th>Description</th>\n",
       "      <th>Quantity</th>\n",
       "      <th>InvoiceDate</th>\n",
       "      <th>UnitPrice</th>\n",
       "      <th>CustomerID</th>\n",
       "      <th>Country</th>\n",
       "      <th>amount_spent</th>\n",
       "    </tr>\n",
       "  </thead>\n",
       "  <tbody>\n",
       "    <tr>\n",
       "      <th>199475</th>\n",
       "      <td>285421</td>\n",
       "      <td>561904</td>\n",
       "      <td>22075</td>\n",
       "      <td>2011</td>\n",
       "      <td>8</td>\n",
       "      <td>1</td>\n",
       "      <td>8</td>\n",
       "      <td>6 ribbons elegant christmas</td>\n",
       "      <td>96</td>\n",
       "      <td>2011-08-01 08:30:00</td>\n",
       "      <td>1.45</td>\n",
       "      <td>17941</td>\n",
       "      <td>United Kingdom</td>\n",
       "      <td>139.20</td>\n",
       "    </tr>\n",
       "    <tr>\n",
       "      <th>199476</th>\n",
       "      <td>285422</td>\n",
       "      <td>561904</td>\n",
       "      <td>85049E</td>\n",
       "      <td>2011</td>\n",
       "      <td>8</td>\n",
       "      <td>1</td>\n",
       "      <td>8</td>\n",
       "      <td>scandinavian reds ribbons</td>\n",
       "      <td>156</td>\n",
       "      <td>2011-08-01 08:30:00</td>\n",
       "      <td>1.06</td>\n",
       "      <td>17941</td>\n",
       "      <td>United Kingdom</td>\n",
       "      <td>165.36</td>\n",
       "    </tr>\n",
       "    <tr>\n",
       "      <th>199477</th>\n",
       "      <td>285423</td>\n",
       "      <td>561905</td>\n",
       "      <td>21385</td>\n",
       "      <td>2011</td>\n",
       "      <td>8</td>\n",
       "      <td>1</td>\n",
       "      <td>9</td>\n",
       "      <td>ivory hanging decoration  heart</td>\n",
       "      <td>24</td>\n",
       "      <td>2011-08-01 09:31:00</td>\n",
       "      <td>0.85</td>\n",
       "      <td>14947</td>\n",
       "      <td>United Kingdom</td>\n",
       "      <td>20.40</td>\n",
       "    </tr>\n",
       "    <tr>\n",
       "      <th>199478</th>\n",
       "      <td>285424</td>\n",
       "      <td>561905</td>\n",
       "      <td>84970L</td>\n",
       "      <td>2011</td>\n",
       "      <td>8</td>\n",
       "      <td>1</td>\n",
       "      <td>9</td>\n",
       "      <td>single heart zinc t-light holder</td>\n",
       "      <td>12</td>\n",
       "      <td>2011-08-01 09:31:00</td>\n",
       "      <td>0.95</td>\n",
       "      <td>14947</td>\n",
       "      <td>United Kingdom</td>\n",
       "      <td>11.40</td>\n",
       "    </tr>\n",
       "    <tr>\n",
       "      <th>199479</th>\n",
       "      <td>285425</td>\n",
       "      <td>561905</td>\n",
       "      <td>84970S</td>\n",
       "      <td>2011</td>\n",
       "      <td>8</td>\n",
       "      <td>1</td>\n",
       "      <td>9</td>\n",
       "      <td>hanging heart zinc t-light holder</td>\n",
       "      <td>12</td>\n",
       "      <td>2011-08-01 09:31:00</td>\n",
       "      <td>0.85</td>\n",
       "      <td>14947</td>\n",
       "      <td>United Kingdom</td>\n",
       "      <td>10.20</td>\n",
       "    </tr>\n",
       "    <tr>\n",
       "      <th>...</th>\n",
       "      <td>...</td>\n",
       "      <td>...</td>\n",
       "      <td>...</td>\n",
       "      <td>...</td>\n",
       "      <td>...</td>\n",
       "      <td>...</td>\n",
       "      <td>...</td>\n",
       "      <td>...</td>\n",
       "      <td>...</td>\n",
       "      <td>...</td>\n",
       "      <td>...</td>\n",
       "      <td>...</td>\n",
       "      <td>...</td>\n",
       "      <td>...</td>\n",
       "    </tr>\n",
       "    <tr>\n",
       "      <th>226483</th>\n",
       "      <td>320688</td>\n",
       "      <td>565067</td>\n",
       "      <td>22644</td>\n",
       "      <td>2011</td>\n",
       "      <td>8</td>\n",
       "      <td>3</td>\n",
       "      <td>17</td>\n",
       "      <td>ceramic cherry cake money bank</td>\n",
       "      <td>2</td>\n",
       "      <td>2011-08-31 17:16:00</td>\n",
       "      <td>1.45</td>\n",
       "      <td>15856</td>\n",
       "      <td>United Kingdom</td>\n",
       "      <td>2.90</td>\n",
       "    </tr>\n",
       "    <tr>\n",
       "      <th>226484</th>\n",
       "      <td>320689</td>\n",
       "      <td>565067</td>\n",
       "      <td>22645</td>\n",
       "      <td>2011</td>\n",
       "      <td>8</td>\n",
       "      <td>3</td>\n",
       "      <td>17</td>\n",
       "      <td>ceramic heart fairy cake money bank</td>\n",
       "      <td>2</td>\n",
       "      <td>2011-08-31 17:16:00</td>\n",
       "      <td>1.45</td>\n",
       "      <td>15856</td>\n",
       "      <td>United Kingdom</td>\n",
       "      <td>2.90</td>\n",
       "    </tr>\n",
       "    <tr>\n",
       "      <th>226485</th>\n",
       "      <td>320690</td>\n",
       "      <td>565067</td>\n",
       "      <td>22637</td>\n",
       "      <td>2011</td>\n",
       "      <td>8</td>\n",
       "      <td>3</td>\n",
       "      <td>17</td>\n",
       "      <td>piggy bank retrospot</td>\n",
       "      <td>2</td>\n",
       "      <td>2011-08-31 17:16:00</td>\n",
       "      <td>2.55</td>\n",
       "      <td>15856</td>\n",
       "      <td>United Kingdom</td>\n",
       "      <td>5.10</td>\n",
       "    </tr>\n",
       "    <tr>\n",
       "      <th>226486</th>\n",
       "      <td>320691</td>\n",
       "      <td>565067</td>\n",
       "      <td>22646</td>\n",
       "      <td>2011</td>\n",
       "      <td>8</td>\n",
       "      <td>3</td>\n",
       "      <td>17</td>\n",
       "      <td>ceramic strawberry cake money bank</td>\n",
       "      <td>2</td>\n",
       "      <td>2011-08-31 17:16:00</td>\n",
       "      <td>1.45</td>\n",
       "      <td>15856</td>\n",
       "      <td>United Kingdom</td>\n",
       "      <td>2.90</td>\n",
       "    </tr>\n",
       "    <tr>\n",
       "      <th>226487</th>\n",
       "      <td>320692</td>\n",
       "      <td>565067</td>\n",
       "      <td>22741</td>\n",
       "      <td>2011</td>\n",
       "      <td>8</td>\n",
       "      <td>3</td>\n",
       "      <td>17</td>\n",
       "      <td>funky diva pen</td>\n",
       "      <td>48</td>\n",
       "      <td>2011-08-31 17:16:00</td>\n",
       "      <td>0.85</td>\n",
       "      <td>15856</td>\n",
       "      <td>United Kingdom</td>\n",
       "      <td>40.80</td>\n",
       "    </tr>\n",
       "  </tbody>\n",
       "</table>\n",
       "<p>27013 rows × 14 columns</p>\n",
       "</div>"
      ],
      "text/plain": [
       "        Unnamed: 0  InvoiceNo StockCode  year  month  day  hour  \\\n",
       "199475      285421     561904     22075  2011      8    1     8   \n",
       "199476      285422     561904    85049E  2011      8    1     8   \n",
       "199477      285423     561905     21385  2011      8    1     9   \n",
       "199478      285424     561905    84970L  2011      8    1     9   \n",
       "199479      285425     561905    84970S  2011      8    1     9   \n",
       "...            ...        ...       ...   ...    ...  ...   ...   \n",
       "226483      320688     565067     22644  2011      8    3    17   \n",
       "226484      320689     565067     22645  2011      8    3    17   \n",
       "226485      320690     565067     22637  2011      8    3    17   \n",
       "226486      320691     565067     22646  2011      8    3    17   \n",
       "226487      320692     565067     22741  2011      8    3    17   \n",
       "\n",
       "                                Description  Quantity          InvoiceDate  \\\n",
       "199475         6 ribbons elegant christmas         96  2011-08-01 08:30:00   \n",
       "199476            scandinavian reds ribbons       156  2011-08-01 08:30:00   \n",
       "199477      ivory hanging decoration  heart        24  2011-08-01 09:31:00   \n",
       "199478     single heart zinc t-light holder        12  2011-08-01 09:31:00   \n",
       "199479    hanging heart zinc t-light holder        12  2011-08-01 09:31:00   \n",
       "...                                     ...       ...                  ...   \n",
       "226483       ceramic cherry cake money bank         2  2011-08-31 17:16:00   \n",
       "226484  ceramic heart fairy cake money bank         2  2011-08-31 17:16:00   \n",
       "226485                piggy bank retrospot          2  2011-08-31 17:16:00   \n",
       "226486   ceramic strawberry cake money bank         2  2011-08-31 17:16:00   \n",
       "226487                       funky diva pen        48  2011-08-31 17:16:00   \n",
       "\n",
       "        UnitPrice  CustomerID         Country  amount_spent  \n",
       "199475       1.45       17941  United Kingdom        139.20  \n",
       "199476       1.06       17941  United Kingdom        165.36  \n",
       "199477       0.85       14947  United Kingdom         20.40  \n",
       "199478       0.95       14947  United Kingdom         11.40  \n",
       "199479       0.85       14947  United Kingdom         10.20  \n",
       "...           ...         ...             ...           ...  \n",
       "226483       1.45       15856  United Kingdom          2.90  \n",
       "226484       1.45       15856  United Kingdom          2.90  \n",
       "226485       2.55       15856  United Kingdom          5.10  \n",
       "226486       1.45       15856  United Kingdom          2.90  \n",
       "226487       0.85       15856  United Kingdom         40.80  \n",
       "\n",
       "[27013 rows x 14 columns]"
      ]
     },
     "execution_count": 349,
     "metadata": {},
     "output_type": "execute_result"
    }
   ],
   "source": [
    "# your answer here\n",
    "orders[orders['month']==8]"
   ]
  },
  {
   "cell_type": "markdown",
   "metadata": {},
   "source": [
    "#### Select how many orders are made by countries in the month of August\n",
    "##### Hint: Use value_counts()"
   ]
  },
  {
   "cell_type": "code",
   "execution_count": 362,
   "metadata": {
    "collapsed": true
   },
   "outputs": [
    {
     "data": {
      "text/plain": [
       "Country          month\n",
       "Australia        8          107\n",
       "Austria          8           88\n",
       "Belgium          8          194\n",
       "Canada           8            5\n",
       "Channel Islands  8          140\n",
       "Denmark          8           16\n",
       "EIRE             8          593\n",
       "Finland          8           61\n",
       "France           8          569\n",
       "Germany          8          795\n",
       "Iceland          8           22\n",
       "Israel           8          171\n",
       "Italy            8           95\n",
       "Malta            8           55\n",
       "Netherlands      8          280\n",
       "Norway           8           77\n",
       "Poland           8           17\n",
       "Portugal         8           41\n",
       "Spain            8          252\n",
       "Sweden           8           40\n",
       "Switzerland      8          267\n",
       "United Kingdom   8        23105\n",
       "Unspecified      8           23\n",
       "Name: month, dtype: int64"
      ]
     },
     "execution_count": 362,
     "metadata": {},
     "output_type": "execute_result"
    }
   ],
   "source": [
    "# your answer here\n",
    "month=orders[orders['month']==8].groupby(orders.Country).month.value_counts()\n",
    "month"
   ]
  },
  {
   "cell_type": "markdown",
   "metadata": {},
   "source": [
    "#### What's the  average amount of money spent by country"
   ]
  },
  {
   "cell_type": "code",
   "execution_count": 366,
   "metadata": {
    "collapsed": true
   },
   "outputs": [
    {
     "data": {
      "text/plain": [
       "Country\n",
       "Australia                3.048523\n",
       "Austria                  4.256030\n",
       "Bahrain                  4.644118\n",
       "Belgium                  3.630158\n",
       "Brazil                   4.456250\n",
       "Canada                   6.030331\n",
       "Channel Islands          4.531618\n",
       "Cyprus                   5.710391\n",
       "Czech Republic           3.130800\n",
       "Denmark                  3.146184\n",
       "EIRE                     4.445880\n",
       "European Community       4.830000\n",
       "Finland                  5.296993\n",
       "France                   4.415253\n",
       "Germany                  3.708487\n",
       "Greece                   4.574414\n",
       "Iceland                  2.644011\n",
       "Israel                   3.646935\n",
       "Italy                    4.717955\n",
       "Japan                    2.047383\n",
       "Lebanon                  5.387556\n",
       "Lithuania                2.841143\n",
       "Malta                    4.867768\n",
       "Netherlands              2.643982\n",
       "Norway                   5.282155\n",
       "Poland                   4.173364\n",
       "Portugal                 5.925472\n",
       "RSA                      4.277586\n",
       "Saudi Arabia             2.351111\n",
       "Singapore               58.333288\n",
       "Spain                    3.824684\n",
       "Sweden                   3.760067\n",
       "Switzerland              3.468659\n",
       "USA                      2.308939\n",
       "United Arab Emirates     3.380735\n",
       "United Kingdom           2.963793\n",
       "Unspecified              3.200820\n",
       "Name: UnitPrice, dtype: float64"
      ]
     },
     "execution_count": 366,
     "metadata": {},
     "output_type": "execute_result"
    }
   ],
   "source": [
    "# your answer here\n",
    "frenquecy1=orders.groupby(orders.Country).UnitPrice.mean()\n",
    "frenquecy1"
   ]
  },
  {
   "cell_type": "markdown",
   "metadata": {},
   "source": [
    "#### What's the most expensive item?"
   ]
  },
  {
   "cell_type": "code",
   "execution_count": 402,
   "metadata": {
    "collapsed": true
   },
   "outputs": [],
   "source": [
    "# your answer here\n",
    "descrip=orders.groupby(orders.UnitPrice).Description.max()"
   ]
  },
  {
   "cell_type": "code",
   "execution_count": 411,
   "metadata": {},
   "outputs": [
    {
     "data": {
      "text/plain": [
       "8142.75"
      ]
     },
     "execution_count": 411,
     "metadata": {},
     "output_type": "execute_result"
    }
   ],
   "source": [
    "orders.UnitPrice.max()"
   ]
  },
  {
   "cell_type": "code",
   "execution_count": 397,
   "metadata": {},
   "outputs": [
    {
     "data": {
      "text/html": [
       "<div>\n",
       "<style scoped>\n",
       "    .dataframe tbody tr th:only-of-type {\n",
       "        vertical-align: middle;\n",
       "    }\n",
       "\n",
       "    .dataframe tbody tr th {\n",
       "        vertical-align: top;\n",
       "    }\n",
       "\n",
       "    .dataframe thead th {\n",
       "        text-align: right;\n",
       "    }\n",
       "</style>\n",
       "<table border=\"1\" class=\"dataframe\">\n",
       "  <thead>\n",
       "    <tr style=\"text-align: right;\">\n",
       "      <th></th>\n",
       "      <th>Unnamed: 0</th>\n",
       "      <th>InvoiceNo</th>\n",
       "      <th>StockCode</th>\n",
       "      <th>year</th>\n",
       "      <th>month</th>\n",
       "      <th>day</th>\n",
       "      <th>hour</th>\n",
       "      <th>Description</th>\n",
       "      <th>Quantity</th>\n",
       "      <th>InvoiceDate</th>\n",
       "      <th>UnitPrice</th>\n",
       "      <th>CustomerID</th>\n",
       "      <th>Country</th>\n",
       "      <th>amount_spent</th>\n",
       "    </tr>\n",
       "  </thead>\n",
       "  <tbody>\n",
       "    <tr>\n",
       "      <th>45</th>\n",
       "      <td>45</td>\n",
       "      <td>536370</td>\n",
       "      <td>POST</td>\n",
       "      <td>2010</td>\n",
       "      <td>12</td>\n",
       "      <td>3</td>\n",
       "      <td>8</td>\n",
       "      <td>postage</td>\n",
       "      <td>3</td>\n",
       "      <td>2010-12-01 08:45:00</td>\n",
       "      <td>18.0</td>\n",
       "      <td>12583</td>\n",
       "      <td>France</td>\n",
       "      <td>54.0</td>\n",
       "    </tr>\n",
       "    <tr>\n",
       "      <th>377</th>\n",
       "      <td>386</td>\n",
       "      <td>536403</td>\n",
       "      <td>POST</td>\n",
       "      <td>2010</td>\n",
       "      <td>12</td>\n",
       "      <td>3</td>\n",
       "      <td>11</td>\n",
       "      <td>postage</td>\n",
       "      <td>1</td>\n",
       "      <td>2010-12-01 11:27:00</td>\n",
       "      <td>15.0</td>\n",
       "      <td>12791</td>\n",
       "      <td>Netherlands</td>\n",
       "      <td>15.0</td>\n",
       "    </tr>\n",
       "    <tr>\n",
       "      <th>1112</th>\n",
       "      <td>1123</td>\n",
       "      <td>536527</td>\n",
       "      <td>POST</td>\n",
       "      <td>2010</td>\n",
       "      <td>12</td>\n",
       "      <td>3</td>\n",
       "      <td>13</td>\n",
       "      <td>postage</td>\n",
       "      <td>1</td>\n",
       "      <td>2010-12-01 13:04:00</td>\n",
       "      <td>18.0</td>\n",
       "      <td>12662</td>\n",
       "      <td>Germany</td>\n",
       "      <td>18.0</td>\n",
       "    </tr>\n",
       "    <tr>\n",
       "      <th>3798</th>\n",
       "      <td>5073</td>\n",
       "      <td>536840</td>\n",
       "      <td>POST</td>\n",
       "      <td>2010</td>\n",
       "      <td>12</td>\n",
       "      <td>4</td>\n",
       "      <td>18</td>\n",
       "      <td>postage</td>\n",
       "      <td>1</td>\n",
       "      <td>2010-12-02 18:27:00</td>\n",
       "      <td>18.0</td>\n",
       "      <td>12738</td>\n",
       "      <td>Germany</td>\n",
       "      <td>18.0</td>\n",
       "    </tr>\n",
       "    <tr>\n",
       "      <th>3978</th>\n",
       "      <td>5258</td>\n",
       "      <td>536852</td>\n",
       "      <td>POST</td>\n",
       "      <td>2010</td>\n",
       "      <td>12</td>\n",
       "      <td>5</td>\n",
       "      <td>9</td>\n",
       "      <td>postage</td>\n",
       "      <td>1</td>\n",
       "      <td>2010-12-03 09:51:00</td>\n",
       "      <td>18.0</td>\n",
       "      <td>12686</td>\n",
       "      <td>France</td>\n",
       "      <td>18.0</td>\n",
       "    </tr>\n",
       "    <tr>\n",
       "      <th>...</th>\n",
       "      <td>...</td>\n",
       "      <td>...</td>\n",
       "      <td>...</td>\n",
       "      <td>...</td>\n",
       "      <td>...</td>\n",
       "      <td>...</td>\n",
       "      <td>...</td>\n",
       "      <td>...</td>\n",
       "      <td>...</td>\n",
       "      <td>...</td>\n",
       "      <td>...</td>\n",
       "      <td>...</td>\n",
       "      <td>...</td>\n",
       "      <td>...</td>\n",
       "    </tr>\n",
       "    <tr>\n",
       "      <th>397494</th>\n",
       "      <td>541198</td>\n",
       "      <td>581493</td>\n",
       "      <td>POST</td>\n",
       "      <td>2011</td>\n",
       "      <td>12</td>\n",
       "      <td>5</td>\n",
       "      <td>10</td>\n",
       "      <td>postage</td>\n",
       "      <td>1</td>\n",
       "      <td>2011-12-09 10:10:00</td>\n",
       "      <td>15.0</td>\n",
       "      <td>12423</td>\n",
       "      <td>Belgium</td>\n",
       "      <td>15.0</td>\n",
       "    </tr>\n",
       "    <tr>\n",
       "      <th>397512</th>\n",
       "      <td>541216</td>\n",
       "      <td>581494</td>\n",
       "      <td>POST</td>\n",
       "      <td>2011</td>\n",
       "      <td>12</td>\n",
       "      <td>5</td>\n",
       "      <td>10</td>\n",
       "      <td>postage</td>\n",
       "      <td>2</td>\n",
       "      <td>2011-12-09 10:13:00</td>\n",
       "      <td>18.0</td>\n",
       "      <td>12518</td>\n",
       "      <td>Germany</td>\n",
       "      <td>36.0</td>\n",
       "    </tr>\n",
       "    <tr>\n",
       "      <th>397745</th>\n",
       "      <td>541730</td>\n",
       "      <td>581570</td>\n",
       "      <td>POST</td>\n",
       "      <td>2011</td>\n",
       "      <td>12</td>\n",
       "      <td>5</td>\n",
       "      <td>11</td>\n",
       "      <td>postage</td>\n",
       "      <td>1</td>\n",
       "      <td>2011-12-09 11:59:00</td>\n",
       "      <td>18.0</td>\n",
       "      <td>12662</td>\n",
       "      <td>Germany</td>\n",
       "      <td>18.0</td>\n",
       "    </tr>\n",
       "    <tr>\n",
       "      <th>397782</th>\n",
       "      <td>541767</td>\n",
       "      <td>581574</td>\n",
       "      <td>POST</td>\n",
       "      <td>2011</td>\n",
       "      <td>12</td>\n",
       "      <td>5</td>\n",
       "      <td>12</td>\n",
       "      <td>postage</td>\n",
       "      <td>2</td>\n",
       "      <td>2011-12-09 12:09:00</td>\n",
       "      <td>18.0</td>\n",
       "      <td>12526</td>\n",
       "      <td>Germany</td>\n",
       "      <td>36.0</td>\n",
       "    </tr>\n",
       "    <tr>\n",
       "      <th>397783</th>\n",
       "      <td>541768</td>\n",
       "      <td>581578</td>\n",
       "      <td>POST</td>\n",
       "      <td>2011</td>\n",
       "      <td>12</td>\n",
       "      <td>5</td>\n",
       "      <td>12</td>\n",
       "      <td>postage</td>\n",
       "      <td>3</td>\n",
       "      <td>2011-12-09 12:16:00</td>\n",
       "      <td>18.0</td>\n",
       "      <td>12713</td>\n",
       "      <td>Germany</td>\n",
       "      <td>54.0</td>\n",
       "    </tr>\n",
       "  </tbody>\n",
       "</table>\n",
       "<p>1099 rows × 14 columns</p>\n",
       "</div>"
      ],
      "text/plain": [
       "        Unnamed: 0  InvoiceNo StockCode  year  month  day  hour Description  \\\n",
       "45              45     536370      POST  2010     12    3     8     postage   \n",
       "377            386     536403      POST  2010     12    3    11     postage   \n",
       "1112          1123     536527      POST  2010     12    3    13     postage   \n",
       "3798          5073     536840      POST  2010     12    4    18     postage   \n",
       "3978          5258     536852      POST  2010     12    5     9     postage   \n",
       "...            ...        ...       ...   ...    ...  ...   ...         ...   \n",
       "397494      541198     581493      POST  2011     12    5    10     postage   \n",
       "397512      541216     581494      POST  2011     12    5    10     postage   \n",
       "397745      541730     581570      POST  2011     12    5    11     postage   \n",
       "397782      541767     581574      POST  2011     12    5    12     postage   \n",
       "397783      541768     581578      POST  2011     12    5    12     postage   \n",
       "\n",
       "        Quantity          InvoiceDate  UnitPrice  CustomerID      Country  \\\n",
       "45             3  2010-12-01 08:45:00       18.0       12583       France   \n",
       "377            1  2010-12-01 11:27:00       15.0       12791  Netherlands   \n",
       "1112           1  2010-12-01 13:04:00       18.0       12662      Germany   \n",
       "3798           1  2010-12-02 18:27:00       18.0       12738      Germany   \n",
       "3978           1  2010-12-03 09:51:00       18.0       12686       France   \n",
       "...          ...                  ...        ...         ...          ...   \n",
       "397494         1  2011-12-09 10:10:00       15.0       12423      Belgium   \n",
       "397512         2  2011-12-09 10:13:00       18.0       12518      Germany   \n",
       "397745         1  2011-12-09 11:59:00       18.0       12662      Germany   \n",
       "397782         2  2011-12-09 12:09:00       18.0       12526      Germany   \n",
       "397783         3  2011-12-09 12:16:00       18.0       12713      Germany   \n",
       "\n",
       "        amount_spent  \n",
       "45              54.0  \n",
       "377             15.0  \n",
       "1112            18.0  \n",
       "3798            18.0  \n",
       "3978            18.0  \n",
       "...              ...  \n",
       "397494          15.0  \n",
       "397512          36.0  \n",
       "397745          18.0  \n",
       "397782          36.0  \n",
       "397783          54.0  \n",
       "\n",
       "[1099 rows x 14 columns]"
      ]
     },
     "execution_count": 397,
     "metadata": {},
     "output_type": "execute_result"
    }
   ],
   "source": [
    "orders[orders['Description'].str.match('postage')]"
   ]
  },
  {
   "cell_type": "markdown",
   "metadata": {},
   "source": [
    "#### What was the average amount spent per year ?"
   ]
  },
  {
   "cell_type": "code",
   "execution_count": 386,
   "metadata": {
    "collapsed": true
   },
   "outputs": [
    {
     "data": {
      "text/plain": [
       "year\n",
       "2010    3.132095\n",
       "2011    3.115054\n",
       "Name: UnitPrice, dtype: float64"
      ]
     },
     "execution_count": 386,
     "metadata": {},
     "output_type": "execute_result"
    }
   ],
   "source": [
    "# your answer here\n",
    "orders.groupby(orders.year).UnitPrice.mean()"
   ]
  },
  {
   "cell_type": "code",
   "execution_count": null,
   "metadata": {},
   "outputs": [],
   "source": []
  }
 ],
 "metadata": {
  "anaconda-cloud": {},
  "kernelspec": {
   "display_name": "Python 3.9.12 ('base')",
   "language": "python",
   "name": "python3"
  },
  "language_info": {
   "codemirror_mode": {
    "name": "ipython",
    "version": 3
   },
   "file_extension": ".py",
   "mimetype": "text/x-python",
   "name": "python",
   "nbconvert_exporter": "python",
   "pygments_lexer": "ipython3",
   "version": "3.9.12"
  },
  "vscode": {
   "interpreter": {
    "hash": "ad2bdc8ecc057115af97d19610ffacc2b4e99fae6737bb82f5d7fb13d2f2c186"
   }
  }
 },
 "nbformat": 4,
 "nbformat_minor": 1
}
